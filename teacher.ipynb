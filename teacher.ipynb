{
 "cells": [
  {
   "cell_type": "code",
   "execution_count": 1,
   "metadata": {},
   "outputs": [],
   "source": [
    "import pandas as pd\n",
    "import numpy as np\n",
    "import matplotlib.pyplot as plt\n",
    "import os\n",
    "from scipy.stats import linregress\n",
    "import plotly\n",
    "import scipy.stats as stats\n",
    "%matplotlib inline"
   ]
  },
  {
   "cell_type": "code",
   "execution_count": 2,
   "metadata": {},
   "outputs": [
    {
     "ename": "FileNotFoundError",
     "evalue": "[Errno 2] No such file or directory: 'C:\\\\Users\\\\steel\\\\Desktop\\\\Project1\\\\data_files\\\\revenue.xlsx'",
     "output_type": "error",
     "traceback": [
      "\u001b[1;31m---------------------------------------------------------------------------\u001b[0m",
      "\u001b[1;31mFileNotFoundError\u001b[0m                         Traceback (most recent call last)",
      "\u001b[1;32m<ipython-input-2-a9a65b00514e>\u001b[0m in \u001b[0;36m<module>\u001b[1;34m\u001b[0m\n\u001b[0;32m      2\u001b[0m \u001b[0mpath\u001b[0m \u001b[1;33m=\u001b[0m \u001b[0mos\u001b[0m\u001b[1;33m.\u001b[0m\u001b[0mgetcwd\u001b[0m\u001b[1;33m(\u001b[0m\u001b[1;33m)\u001b[0m\u001b[1;33m\u001b[0m\u001b[1;33m\u001b[0m\u001b[0m\n\u001b[0;32m      3\u001b[0m \u001b[0mdataFilePath\u001b[0m \u001b[1;33m=\u001b[0m \u001b[0mos\u001b[0m\u001b[1;33m.\u001b[0m\u001b[0mpath\u001b[0m\u001b[1;33m.\u001b[0m\u001b[0mjoin\u001b[0m\u001b[1;33m(\u001b[0m\u001b[0mpath\u001b[0m\u001b[1;33m,\u001b[0m\u001b[1;34m\"data_files\"\u001b[0m\u001b[1;33m,\u001b[0m\u001b[1;34m\"revenue.xlsx\"\u001b[0m\u001b[1;33m)\u001b[0m\u001b[1;33m\u001b[0m\u001b[1;33m\u001b[0m\u001b[0m\n\u001b[1;32m----> 4\u001b[1;33m \u001b[0mrevenue\u001b[0m \u001b[1;33m=\u001b[0m \u001b[0mpd\u001b[0m\u001b[1;33m.\u001b[0m\u001b[0mread_excel\u001b[0m\u001b[1;33m(\u001b[0m\u001b[0mdataFilePath\u001b[0m\u001b[1;33m)\u001b[0m\u001b[1;33m\u001b[0m\u001b[1;33m\u001b[0m\u001b[0m\n\u001b[0m",
      "\u001b[1;32m~\\Anaconda3\\lib\\site-packages\\pandas\\util\\_decorators.py\u001b[0m in \u001b[0;36mwrapper\u001b[1;34m(*args, **kwargs)\u001b[0m\n\u001b[0;32m    206\u001b[0m                 \u001b[1;32melse\u001b[0m\u001b[1;33m:\u001b[0m\u001b[1;33m\u001b[0m\u001b[1;33m\u001b[0m\u001b[0m\n\u001b[0;32m    207\u001b[0m                     \u001b[0mkwargs\u001b[0m\u001b[1;33m[\u001b[0m\u001b[0mnew_arg_name\u001b[0m\u001b[1;33m]\u001b[0m \u001b[1;33m=\u001b[0m \u001b[0mnew_arg_value\u001b[0m\u001b[1;33m\u001b[0m\u001b[1;33m\u001b[0m\u001b[0m\n\u001b[1;32m--> 208\u001b[1;33m             \u001b[1;32mreturn\u001b[0m \u001b[0mfunc\u001b[0m\u001b[1;33m(\u001b[0m\u001b[1;33m*\u001b[0m\u001b[0margs\u001b[0m\u001b[1;33m,\u001b[0m \u001b[1;33m**\u001b[0m\u001b[0mkwargs\u001b[0m\u001b[1;33m)\u001b[0m\u001b[1;33m\u001b[0m\u001b[1;33m\u001b[0m\u001b[0m\n\u001b[0m\u001b[0;32m    209\u001b[0m \u001b[1;33m\u001b[0m\u001b[0m\n\u001b[0;32m    210\u001b[0m         \u001b[1;32mreturn\u001b[0m \u001b[0mwrapper\u001b[0m\u001b[1;33m\u001b[0m\u001b[1;33m\u001b[0m\u001b[0m\n",
      "\u001b[1;32m~\\Anaconda3\\lib\\site-packages\\pandas\\io\\excel\\_base.py\u001b[0m in \u001b[0;36mread_excel\u001b[1;34m(io, sheet_name, header, names, index_col, usecols, squeeze, dtype, engine, converters, true_values, false_values, skiprows, nrows, na_values, keep_default_na, verbose, parse_dates, date_parser, thousands, comment, skip_footer, skipfooter, convert_float, mangle_dupe_cols, **kwds)\u001b[0m\n\u001b[0;32m    308\u001b[0m \u001b[1;33m\u001b[0m\u001b[0m\n\u001b[0;32m    309\u001b[0m     \u001b[1;32mif\u001b[0m \u001b[1;32mnot\u001b[0m \u001b[0misinstance\u001b[0m\u001b[1;33m(\u001b[0m\u001b[0mio\u001b[0m\u001b[1;33m,\u001b[0m \u001b[0mExcelFile\u001b[0m\u001b[1;33m)\u001b[0m\u001b[1;33m:\u001b[0m\u001b[1;33m\u001b[0m\u001b[1;33m\u001b[0m\u001b[0m\n\u001b[1;32m--> 310\u001b[1;33m         \u001b[0mio\u001b[0m \u001b[1;33m=\u001b[0m \u001b[0mExcelFile\u001b[0m\u001b[1;33m(\u001b[0m\u001b[0mio\u001b[0m\u001b[1;33m,\u001b[0m \u001b[0mengine\u001b[0m\u001b[1;33m=\u001b[0m\u001b[0mengine\u001b[0m\u001b[1;33m)\u001b[0m\u001b[1;33m\u001b[0m\u001b[1;33m\u001b[0m\u001b[0m\n\u001b[0m\u001b[0;32m    311\u001b[0m     \u001b[1;32melif\u001b[0m \u001b[0mengine\u001b[0m \u001b[1;32mand\u001b[0m \u001b[0mengine\u001b[0m \u001b[1;33m!=\u001b[0m \u001b[0mio\u001b[0m\u001b[1;33m.\u001b[0m\u001b[0mengine\u001b[0m\u001b[1;33m:\u001b[0m\u001b[1;33m\u001b[0m\u001b[1;33m\u001b[0m\u001b[0m\n\u001b[0;32m    312\u001b[0m         raise ValueError(\n",
      "\u001b[1;32m~\\Anaconda3\\lib\\site-packages\\pandas\\io\\excel\\_base.py\u001b[0m in \u001b[0;36m__init__\u001b[1;34m(self, io, engine)\u001b[0m\n\u001b[0;32m    817\u001b[0m         \u001b[0mself\u001b[0m\u001b[1;33m.\u001b[0m\u001b[0m_io\u001b[0m \u001b[1;33m=\u001b[0m \u001b[0m_stringify_path\u001b[0m\u001b[1;33m(\u001b[0m\u001b[0mio\u001b[0m\u001b[1;33m)\u001b[0m\u001b[1;33m\u001b[0m\u001b[1;33m\u001b[0m\u001b[0m\n\u001b[0;32m    818\u001b[0m \u001b[1;33m\u001b[0m\u001b[0m\n\u001b[1;32m--> 819\u001b[1;33m         \u001b[0mself\u001b[0m\u001b[1;33m.\u001b[0m\u001b[0m_reader\u001b[0m \u001b[1;33m=\u001b[0m \u001b[0mself\u001b[0m\u001b[1;33m.\u001b[0m\u001b[0m_engines\u001b[0m\u001b[1;33m[\u001b[0m\u001b[0mengine\u001b[0m\u001b[1;33m]\u001b[0m\u001b[1;33m(\u001b[0m\u001b[0mself\u001b[0m\u001b[1;33m.\u001b[0m\u001b[0m_io\u001b[0m\u001b[1;33m)\u001b[0m\u001b[1;33m\u001b[0m\u001b[1;33m\u001b[0m\u001b[0m\n\u001b[0m\u001b[0;32m    820\u001b[0m \u001b[1;33m\u001b[0m\u001b[0m\n\u001b[0;32m    821\u001b[0m     \u001b[1;32mdef\u001b[0m \u001b[0m__fspath__\u001b[0m\u001b[1;33m(\u001b[0m\u001b[0mself\u001b[0m\u001b[1;33m)\u001b[0m\u001b[1;33m:\u001b[0m\u001b[1;33m\u001b[0m\u001b[1;33m\u001b[0m\u001b[0m\n",
      "\u001b[1;32m~\\Anaconda3\\lib\\site-packages\\pandas\\io\\excel\\_xlrd.py\u001b[0m in \u001b[0;36m__init__\u001b[1;34m(self, filepath_or_buffer)\u001b[0m\n\u001b[0;32m     19\u001b[0m         \u001b[0merr_msg\u001b[0m \u001b[1;33m=\u001b[0m \u001b[1;34m\"Install xlrd >= 1.0.0 for Excel support\"\u001b[0m\u001b[1;33m\u001b[0m\u001b[1;33m\u001b[0m\u001b[0m\n\u001b[0;32m     20\u001b[0m         \u001b[0mimport_optional_dependency\u001b[0m\u001b[1;33m(\u001b[0m\u001b[1;34m\"xlrd\"\u001b[0m\u001b[1;33m,\u001b[0m \u001b[0mextra\u001b[0m\u001b[1;33m=\u001b[0m\u001b[0merr_msg\u001b[0m\u001b[1;33m)\u001b[0m\u001b[1;33m\u001b[0m\u001b[1;33m\u001b[0m\u001b[0m\n\u001b[1;32m---> 21\u001b[1;33m         \u001b[0msuper\u001b[0m\u001b[1;33m(\u001b[0m\u001b[1;33m)\u001b[0m\u001b[1;33m.\u001b[0m\u001b[0m__init__\u001b[0m\u001b[1;33m(\u001b[0m\u001b[0mfilepath_or_buffer\u001b[0m\u001b[1;33m)\u001b[0m\u001b[1;33m\u001b[0m\u001b[1;33m\u001b[0m\u001b[0m\n\u001b[0m\u001b[0;32m     22\u001b[0m \u001b[1;33m\u001b[0m\u001b[0m\n\u001b[0;32m     23\u001b[0m     \u001b[1;33m@\u001b[0m\u001b[0mproperty\u001b[0m\u001b[1;33m\u001b[0m\u001b[1;33m\u001b[0m\u001b[0m\n",
      "\u001b[1;32m~\\Anaconda3\\lib\\site-packages\\pandas\\io\\excel\\_base.py\u001b[0m in \u001b[0;36m__init__\u001b[1;34m(self, filepath_or_buffer)\u001b[0m\n\u001b[0;32m    357\u001b[0m             \u001b[0mself\u001b[0m\u001b[1;33m.\u001b[0m\u001b[0mbook\u001b[0m \u001b[1;33m=\u001b[0m \u001b[0mself\u001b[0m\u001b[1;33m.\u001b[0m\u001b[0mload_workbook\u001b[0m\u001b[1;33m(\u001b[0m\u001b[0mfilepath_or_buffer\u001b[0m\u001b[1;33m)\u001b[0m\u001b[1;33m\u001b[0m\u001b[1;33m\u001b[0m\u001b[0m\n\u001b[0;32m    358\u001b[0m         \u001b[1;32melif\u001b[0m \u001b[0misinstance\u001b[0m\u001b[1;33m(\u001b[0m\u001b[0mfilepath_or_buffer\u001b[0m\u001b[1;33m,\u001b[0m \u001b[0mstr\u001b[0m\u001b[1;33m)\u001b[0m\u001b[1;33m:\u001b[0m\u001b[1;33m\u001b[0m\u001b[1;33m\u001b[0m\u001b[0m\n\u001b[1;32m--> 359\u001b[1;33m             \u001b[0mself\u001b[0m\u001b[1;33m.\u001b[0m\u001b[0mbook\u001b[0m \u001b[1;33m=\u001b[0m \u001b[0mself\u001b[0m\u001b[1;33m.\u001b[0m\u001b[0mload_workbook\u001b[0m\u001b[1;33m(\u001b[0m\u001b[0mfilepath_or_buffer\u001b[0m\u001b[1;33m)\u001b[0m\u001b[1;33m\u001b[0m\u001b[1;33m\u001b[0m\u001b[0m\n\u001b[0m\u001b[0;32m    360\u001b[0m         \u001b[1;32melse\u001b[0m\u001b[1;33m:\u001b[0m\u001b[1;33m\u001b[0m\u001b[1;33m\u001b[0m\u001b[0m\n\u001b[0;32m    361\u001b[0m             raise ValueError(\n",
      "\u001b[1;32m~\\Anaconda3\\lib\\site-packages\\pandas\\io\\excel\\_xlrd.py\u001b[0m in \u001b[0;36mload_workbook\u001b[1;34m(self, filepath_or_buffer)\u001b[0m\n\u001b[0;32m     34\u001b[0m             \u001b[1;32mreturn\u001b[0m \u001b[0mopen_workbook\u001b[0m\u001b[1;33m(\u001b[0m\u001b[0mfile_contents\u001b[0m\u001b[1;33m=\u001b[0m\u001b[0mdata\u001b[0m\u001b[1;33m)\u001b[0m\u001b[1;33m\u001b[0m\u001b[1;33m\u001b[0m\u001b[0m\n\u001b[0;32m     35\u001b[0m         \u001b[1;32melse\u001b[0m\u001b[1;33m:\u001b[0m\u001b[1;33m\u001b[0m\u001b[1;33m\u001b[0m\u001b[0m\n\u001b[1;32m---> 36\u001b[1;33m             \u001b[1;32mreturn\u001b[0m \u001b[0mopen_workbook\u001b[0m\u001b[1;33m(\u001b[0m\u001b[0mfilepath_or_buffer\u001b[0m\u001b[1;33m)\u001b[0m\u001b[1;33m\u001b[0m\u001b[1;33m\u001b[0m\u001b[0m\n\u001b[0m\u001b[0;32m     37\u001b[0m \u001b[1;33m\u001b[0m\u001b[0m\n\u001b[0;32m     38\u001b[0m     \u001b[1;33m@\u001b[0m\u001b[0mproperty\u001b[0m\u001b[1;33m\u001b[0m\u001b[1;33m\u001b[0m\u001b[0m\n",
      "\u001b[1;32m~\\Anaconda3\\lib\\site-packages\\xlrd\\__init__.py\u001b[0m in \u001b[0;36mopen_workbook\u001b[1;34m(filename, logfile, verbosity, use_mmap, file_contents, encoding_override, formatting_info, on_demand, ragged_rows)\u001b[0m\n\u001b[0;32m    109\u001b[0m     \u001b[1;32melse\u001b[0m\u001b[1;33m:\u001b[0m\u001b[1;33m\u001b[0m\u001b[1;33m\u001b[0m\u001b[0m\n\u001b[0;32m    110\u001b[0m         \u001b[0mfilename\u001b[0m \u001b[1;33m=\u001b[0m \u001b[0mos\u001b[0m\u001b[1;33m.\u001b[0m\u001b[0mpath\u001b[0m\u001b[1;33m.\u001b[0m\u001b[0mexpanduser\u001b[0m\u001b[1;33m(\u001b[0m\u001b[0mfilename\u001b[0m\u001b[1;33m)\u001b[0m\u001b[1;33m\u001b[0m\u001b[1;33m\u001b[0m\u001b[0m\n\u001b[1;32m--> 111\u001b[1;33m         \u001b[1;32mwith\u001b[0m \u001b[0mopen\u001b[0m\u001b[1;33m(\u001b[0m\u001b[0mfilename\u001b[0m\u001b[1;33m,\u001b[0m \u001b[1;34m\"rb\"\u001b[0m\u001b[1;33m)\u001b[0m \u001b[1;32mas\u001b[0m \u001b[0mf\u001b[0m\u001b[1;33m:\u001b[0m\u001b[1;33m\u001b[0m\u001b[1;33m\u001b[0m\u001b[0m\n\u001b[0m\u001b[0;32m    112\u001b[0m             \u001b[0mpeek\u001b[0m \u001b[1;33m=\u001b[0m \u001b[0mf\u001b[0m\u001b[1;33m.\u001b[0m\u001b[0mread\u001b[0m\u001b[1;33m(\u001b[0m\u001b[0mpeeksz\u001b[0m\u001b[1;33m)\u001b[0m\u001b[1;33m\u001b[0m\u001b[1;33m\u001b[0m\u001b[0m\n\u001b[0;32m    113\u001b[0m     \u001b[1;32mif\u001b[0m \u001b[0mpeek\u001b[0m \u001b[1;33m==\u001b[0m \u001b[1;34mb\"PK\\x03\\x04\"\u001b[0m\u001b[1;33m:\u001b[0m \u001b[1;31m# a ZIP file\u001b[0m\u001b[1;33m\u001b[0m\u001b[1;33m\u001b[0m\u001b[0m\n",
      "\u001b[1;31mFileNotFoundError\u001b[0m: [Errno 2] No such file or directory: 'C:\\\\Users\\\\steel\\\\Desktop\\\\Project1\\\\data_files\\\\revenue.xlsx'"
     ]
    }
   ],
   "source": [
    "# Revenue Data\n",
    "path = os.getcwd()\n",
    "dataFilePath = os.path.join(path,\"data_files\",\"revenue.xlsx\")\n",
    "revenue = pd.read_excel(dataFilePath)"
   ]
  },
  {
   "cell_type": "code",
   "execution_count": null,
   "metadata": {
    "scrolled": true
   },
   "outputs": [],
   "source": [
    "# Salary Data\n",
    "path = os.getcwd()\n",
    "dataFilePath = os.path.join(path,\"data_files\",\"teacher_salaries_1.xlsx\")\n",
    "teacher_salaries = pd.read_excel(dataFilePath).round(0)\n",
    "teacher_salaries.drop([0])\n",
    "\n",
    "sal1 = \"data_files/teacher_salaries_1.xlsx\"\n",
    "sal2=\"data_files/gradvssal.csv\"\n",
    "salaries=pd.read_excel(sal1)\n",
    "salaries2=pd.read_csv(sal2, index_col=\"States\")\n",
    "\n",
    "teacher_salaries"
   ]
  },
  {
   "cell_type": "code",
   "execution_count": null,
   "metadata": {},
   "outputs": [],
   "source": [
    "# Region Data\n",
    "path = os.getcwd()\n",
    "dataFilePath = os.path.join(path,\"data_files\",\"Region Defintions.xlsx\")\n",
    "regionData = pd.read_excel(dataFilePath)"
   ]
  },
  {
   "cell_type": "code",
   "execution_count": null,
   "metadata": {},
   "outputs": [],
   "source": [
    "# Graduation Rate Data\n",
    "path = os.getcwd()\n",
    "dataFilePath = os.path.join(path,\"data_files\",\"grad_rate.xlsx\")\n",
    "grad_rate = pd.read_excel(dataFilePath)\n",
    "\n",
    "grad1= \"data_files/grad_rates.xlsx\"\n",
    "grad2= \"data_files/grad_rates.xlsx\"\n",
    "gradrate=pd.read_excel(grad1)\n",
    "gradrate2=pd.read_excel(grad2, index_col=\"States\")\n"
   ]
  },
  {
   "cell_type": "code",
   "execution_count": null,
   "metadata": {
    "scrolled": true
   },
   "outputs": [],
   "source": [
    "# Pupil Spending Data\n",
    "path = os.getcwd()\n",
    "dataFilePath = os.path.join(path,\"data_files\",\"per_pupil_spending.xlsx\")\n",
    "pupil_spending = pd.read_excel(dataFilePath)\n",
    "pupil_spending"
   ]
  },
  {
   "cell_type": "code",
   "execution_count": null,
   "metadata": {},
   "outputs": [],
   "source": [
    "# Ratio Data\n",
    "path = os.getcwd()\n",
    "dataFilePath = os.path.join(path,\"data_files\",\"teacher_student_ratio.xlsx\")\n",
    "ratio = pd.read_excel(dataFilePath)\n",
    "\n",
    "ratio1=\"data_files/teacher_student_ratio.xlsx\"\n",
    "ratio2=\"data_files/Ratios.csv\"\n",
    "teachratio=pd.read_excel(ratio1)\n",
    "teachratio2=pd.read_csv(ratio2, index_col=\"States\")\n",
    "\n",
    "ratio"
   ]
  },
  {
   "cell_type": "code",
   "execution_count": null,
   "metadata": {},
   "outputs": [],
   "source": [
    "grad_rate_df = grad_rate.rename(columns={\"Unmaned: 0\":\"States\", \"Unnamed: 1\":\"2010\", \"Unnamed: 2\":\"2011\", \"Unnamed: 3\":\"2012\", \"Unnamed: 4\":\"2013\", \"Unnamed: 5\":\"2014\", \"Unnamed: 6\":\"2015\", \"Unnamed: 7\":\"2016\" })\n",
    "grad_rate_df.head()\n"
   ]
  },
  {
   "cell_type": "code",
   "execution_count": null,
   "metadata": {},
   "outputs": [],
   "source": [
    "grad_rate_df_1 = grad_rate_df.drop([0,1])\n",
    "grad_rate_renamed = grad_rate_df_1.rename(columns={\"Unnamed: 0\": \"States\"})\n",
    "grad_rate_renamed = grad_rate_renamed.set_index('States')\n",
    "grad_rate_renamed.head()"
   ]
  },
  {
   "cell_type": "code",
   "execution_count": null,
   "metadata": {
    "scrolled": true
   },
   "outputs": [],
   "source": [
    "# Get full data for state\n",
    "yearValues = pd.DataFrame(grad_rate_renamed.loc['Oklahoma'].transform(lambda x: x.fillna(x.mean())))\n",
    "# Drop incomplete data\n",
    "grad_rate_renamed = grad_rate_renamed.drop(index='Oklahoma')\n",
    "# Flatten the year data\n",
    "stateData = yearValues.T\n",
    "# Add new data and sort by state name\n",
    "grad_rate_renamed = grad_rate_renamed.append(stateData).sort_index()\n",
    "# Print results\n",
    "grad_rate_renamed"
   ]
  },
  {
   "cell_type": "code",
   "execution_count": null,
   "metadata": {
    "scrolled": true
   },
   "outputs": [],
   "source": [
    "yearValues = grad_rate_renamed.loc['Idaho'].transform(lambda x: x.fillna(x.mean()))\n",
    "# Drop incomplete data\n",
    "grad_rate_renamed = grad_rate_renamed.drop(index='Idaho')\n",
    "# Flatten the year data\n",
    "stateData = yearValues.T\n",
    "# Add new data and sort by state name\n",
    "grad_rate_renamed = grad_rate_renamed.append(stateData).sort_index()\n",
    "# Print results\n",
    "grad_rate_renamed"
   ]
  },
  {
   "cell_type": "code",
   "execution_count": null,
   "metadata": {
    "scrolled": true
   },
   "outputs": [],
   "source": [
    "yearValues = grad_rate_renamed.loc['Kentucky'].transform(lambda x: x.fillna(x.mean()))\n",
    "# Drop incomplete data\n",
    "grad_rate_renamed = grad_rate_renamed.drop(index='Kentucky')\n",
    "# Flatten the year data\n",
    "stateData = yearValues.T\n",
    "# Add new data and sort by state name\n",
    "grad_rate_renamed = grad_rate_renamed.append(stateData).sort_index()\n",
    "# Print results\n",
    "grad_rate_renamed"
   ]
  },
  {
   "cell_type": "code",
   "execution_count": null,
   "metadata": {},
   "outputs": [],
   "source": [
    "pupil_spending_renamed = pupil_spending.rename(columns={\"2007\":\"2007_PPS\", \"2008\":\"2008_PPS\", \"2009\":\"2009_PPS\",\n",
    "                                                       \"2010\":\"2010_PPS\", \"2011\":\"2011_PPS\", \"2012\":\"2012_PPS\", \"2013\":\"2013_PPS\",\n",
    "                                                       \"2014\":\"2014_PPS\", \"2015\":\"2015_PPS\", \"2016\":\"2016_PPS\", \n",
    "                                                       \"Unnamed: 2\":\"2007 pct_change\", \"Unnamed: 4\":\"2008 pct_change\",\n",
    "                                                       \"Unnamed: 6\":\"2009 pct_change\",\"Unnamed: 8\":\"2010 pct_change\",\n",
    "                                                       \"Unnamed: 10\":\"2011 pct_change\", \"Unnamed: 12\":\"2012 pct_change\",\n",
    "                                                       \"Unnamed: 14\":\"2013 pct_change\", \"Unnamed: 16\":\"2014 pct_change\",\n",
    "                                                       \"Unnamed: 18\":\"2015 pct_change\", \"Unnamed: 20\":\"2016 pct_change\"})\n",
    "\n",
    "pupil_spending_renamed.head()\n"
   ]
  },
  {
   "cell_type": "code",
   "execution_count": null,
   "metadata": {},
   "outputs": [],
   "source": [
    "pupil_spending_df = pupil_spending_renamed.drop([0,1])\n",
    "pupil_spending_df.head()"
   ]
  },
  {
   "cell_type": "code",
   "execution_count": null,
   "metadata": {
    "scrolled": true
   },
   "outputs": [],
   "source": [
    "pupil_spending_df.isnull().sum()"
   ]
  },
  {
   "cell_type": "code",
   "execution_count": null,
   "metadata": {
    "scrolled": true
   },
   "outputs": [],
   "source": [
    "ratio_df = ratio.drop(['Unnamed: 1', 2007, 'Unnamed: 3', 'Unnamed: 4', 2008, 'Unnamed: 6', 'Unnamed: 7', 2009, 'Unnamed: 9','Unnamed: 10', 2010, 'Unnamed: 12'],axis=1)\n",
    "ratio_df.head()\n"
   ]
  },
  {
   "cell_type": "code",
   "execution_count": null,
   "metadata": {},
   "outputs": [],
   "source": [
    "ratio_renamed_df = ratio_df.rename(columns={\"Unnamed: 0\":\"State\", \"Unnamed: 13\":\"2011_staff\", 2011:\"2011_enrollment\", \n",
    "                                     \"Unnamed: 15\":\"2011_ratio\", \"Unnamed: 16\":\"2012_staff\", 2012:\"2012_enrollment\", \n",
    "                                      \"Unnamed: 18\":\"2012_ratio\", \"Unnamed: 19\":\"2013_staff\", 2013:\"2013_enrollment\",\n",
    "                                     \"Unnamed: 21\":\"2013_ratio\", \"Unnamed: 22\":\"2014_staff\", 2014:\"2014_enrollment\",\n",
    "                                     \"Unnamed: 24\":\"2014_ratio\",  \"Unnamed: 25\":\"2015_staff\", 2015:\"2015_enrollment\",\n",
    "                                     \"Unnamed: 27\":\"2015_ratio\", \"Unnamed: 28\":\"2016_staff\", 2016:\"2016_enrollment\",\n",
    "                                     \"Unnamed: 30\":\"2016_ratio\"}) \n",
    "                                     \n",
    "ratio_renamed_df.head()                                 \n",
    "                                     "
   ]
  },
  {
   "cell_type": "code",
   "execution_count": null,
   "metadata": {},
   "outputs": [],
   "source": [
    "ratio_cleaned_df = ratio_renamed_df.drop([0])\n",
    "ratio_cleaned_df.head()"
   ]
  },
  {
   "cell_type": "code",
   "execution_count": null,
   "metadata": {},
   "outputs": [],
   "source": [
    "ratio_cleaned_df.isnull().sum()"
   ]
  },
  {
   "cell_type": "code",
   "execution_count": null,
   "metadata": {
    "scrolled": true
   },
   "outputs": [],
   "source": [
    "grad_rate_renamed"
   ]
  },
  {
   "cell_type": "code",
   "execution_count": null,
   "metadata": {},
   "outputs": [],
   "source": [
    "# Make GA dataset for comparing to US\n",
    "gaGradRate = pd.DataFrame(grad_rate_renamed.loc['Georgia'])\n",
    "# Remove GA for comparison\n",
    "allOtherGradRates = grad_rate_renamed.drop(index='Georgia')\n",
    "anovaResult = stats.f_oneway(gaGradRate.T, allOtherGradRates)\n",
    "\n",
    "anovaResult = pd.DataFrame(anovaResult)\n",
    "\n",
    "anovaResult = anovaResult.rename(columns={0:\"2010\", 1:\"2011\", 2:\"2012\", 3:\"2013\", 4:\"2014\", 5:\"2015\", 6:\"2016\"})\n",
    "anovaResult.index = ['Statistic', 'P Value']\n",
    "anovaResult\n"
   ]
  },
  {
   "cell_type": "code",
   "execution_count": null,
   "metadata": {},
   "outputs": [],
   "source": [
    "# Gather regions from region data file\n",
    "regionData = regionData.sort_values('Region')\n",
    "statesData = regionData[['State','Region']].sort_values(['Region','State'])\n",
    "\n",
    "# build new dataframes with states in region\n",
    "gradRatesByStateRegion = statesData.join(grad_rate_renamed,on='State')\n",
    "# Northeast, South, West\n",
    "# Breakout data frames by region\n",
    "midWestGradRates = gradRatesByStateRegion[gradRatesByStateRegion['Region'] == 'Midwest']\n",
    "northEastGradRates = gradRatesByStateRegion[gradRatesByStateRegion['Region'] == 'Northeast']\n",
    "westGradRates = gradRatesByStateRegion[gradRatesByStateRegion['Region'] == 'West']\n",
    "southGradRates = gradRatesByStateRegion[gradRatesByStateRegion['Region'] == 'South']\n",
    "\n",
    "midWestGradRates\n",
    "\n"
   ]
  },
  {
   "cell_type": "code",
   "execution_count": null,
   "metadata": {},
   "outputs": [],
   "source": [
    "#adding columns to add Average accross states into dataframe for United States\n",
    "\n",
    "ratiorate=teachratio[['STATE','Ratio10','Ratio11','Ratio12','Ratio13','Ratio14','Ratio15','Ratio16']]\n",
    "\n",
    "#getting data\n",
    "r10=ratiorate['Ratio10'].mean()\n",
    "r11=ratiorate['Ratio11'].mean()\n",
    "r12=ratiorate['Ratio12'].mean()\n",
    "r13=ratiorate['Ratio13'].mean()\n",
    "r14=ratiorate['Ratio14'].mean()\n",
    "r15=ratiorate['Ratio15'].mean()\n",
    "r16=ratiorate['Ratio16'].mean()\n",
    "\n",
    "#renaming columns \n",
    "ratiorate1 = pd.DataFrame({'STATE' : 'United States' , 'Ratio10': r10, 'Ratio11':r11, 'Ratio12':r12, 'Ratio13':r13, 'Ratio14':r14,'Ratio15':r15,'Ratio16':r16},index=[0])\n",
    "new_df = pd.concat([ratiorate1,ratiorate]).reset_index(drop=True)\n"
   ]
  },
  {
   "cell_type": "code",
   "execution_count": null,
   "metadata": {},
   "outputs": [],
   "source": [
    "#renaming columns\n",
    "new_df=new_df.rename(columns={\"STATE\": \"States\"})\n",
    "#dropping United States index\n",
    "new_df = new_df.drop(new_df.index[0])\n",
    "#exporting table to csv to be imported later.\n",
    "export_csv = new_df.to_csv (r'data_files\\Ratios.csv', index = None, header=True)\n",
    "#dropping United States index\n",
    "gradrate=gradrate.drop(gradrate.index[0])"
   ]
  },
  {
   "cell_type": "code",
   "execution_count": null,
   "metadata": {},
   "outputs": [],
   "source": [
    "#merging tables together\n",
    "gradvsrat = pd.merge(gradrate,new_df, on=[\"States\"])"
   ]
  },
  {
   "cell_type": "code",
   "execution_count": null,
   "metadata": {},
   "outputs": [],
   "source": [
    "#linear regression for 2010 values\n",
    "\n",
    "rat10 = gradvsrat[2010]\n",
    "r10 = gradvsrat['Ratio10']\n",
    "st = gradvsrat['States']\n",
    "\n",
    "(slope, intercept, rvalue, pvalue, stderr) = linregress(r10,rat10)\n",
    "regress_valuesR10 = r10 * slope + intercept\n",
    "line_eq = \"y = \" + str(round(slope,2)) + \"x + \" + str(round(intercept,2))\n",
    "plt.plot(r10,regress_valuesR10,\"r-\")\n",
    "plt.annotate(line_eq,(9,65),fontsize=15,color=\"red\")\n",
    "sc = plt.scatter(r10,rat10)\n",
    "plt.xlabel('Teacher Student Ratio')\n",
    "plt.ylabel('Graduation Percentage')\n",
    "plt.title('2010 Graduation Rates vs Teacher/Student Ratio')\n",
    "print(rvalue)\n",
    "plt.show()\n"
   ]
  },
  {
   "cell_type": "code",
   "execution_count": null,
   "metadata": {},
   "outputs": [],
   "source": [
    "#linear regression for 2011 values\n",
    "\n",
    "rat11 = gradvsrat[2011]\n",
    "r11 = gradvsrat['Ratio11']\n",
    "st = gradvsrat['States']\n",
    "\n",
    "(slope, intercept, rvalue, pvalue, stderr) = linregress(r11,rat11)\n",
    "regress_valuesR11 = r11 * slope + intercept\n",
    "line_eq = \"y = \" + str(round(slope,2)) + \"x + \" + str(round(intercept,2))\n",
    "plt.plot(r11,regress_valuesR11,\"r-\")\n",
    "plt.annotate(line_eq,(15,65),fontsize=15,color=\"red\")\n",
    "plt.scatter(r11,rat11)\n",
    "plt.xlabel('Teacher Student Ratio')\n",
    "plt.ylabel('Graduation Percentage')\n",
    "plt.title('2011 Graduation Rates vs Teacher/Student Ratio')\n",
    "print(rvalue)\n",
    "plt.show()"
   ]
  },
  {
   "cell_type": "code",
   "execution_count": null,
   "metadata": {},
   "outputs": [],
   "source": [
    "#linear regression for 2012 values\n",
    "\n",
    "rat12 = gradvsrat[2012]\n",
    "r12 = gradvsrat['Ratio12']\n",
    "st = gradvsrat['States']\n",
    "\n",
    "(slope, intercept, rvalue, pvalue, stderr) = linregress(r12,rat12)\n",
    "regress_valuesR12 = r12 * slope + intercept\n",
    "line_eq = \"y = \" + str(round(slope,2)) + \"x + \" + str(round(intercept,2))\n",
    "plt.plot(r12,regress_valuesR12,\"r-\")\n",
    "plt.annotate(line_eq,(16,65),fontsize=15,color=\"red\")\n",
    "plt.scatter(r12,rat12)\n",
    "plt.xlabel('Teacher Student Ratio')\n",
    "plt.ylabel('Graduation Percentage')\n",
    "plt.title('2012 Graduation Rates vs Teacher/Student Ratio')\n",
    "print(rvalue)\n",
    "plt.show()"
   ]
  },
  {
   "cell_type": "code",
   "execution_count": null,
   "metadata": {},
   "outputs": [],
   "source": [
    "#linear regression for 2013 values\n",
    "\n",
    "rat13 = gradvsrat[2013]\n",
    "r13 = gradvsrat['Ratio13']\n",
    "st = gradvsrat['States']\n",
    "\n",
    "(slope, intercept, rvalue, pvalue, stderr) = linregress(r13,rat13)\n",
    "regress_valuesR13 = r13 * slope + intercept\n",
    "line_eq = \"y = \" + str(round(slope,2)) + \"x + \" + str(round(intercept,2))\n",
    "plt.plot(r13,regress_valuesR13,\"r-\")\n",
    "plt.annotate(line_eq,(16,65),fontsize=15,color=\"red\")\n",
    "plt.scatter(r13,rat13)\n",
    "plt.xlabel('Teacher Student Ratio')\n",
    "plt.ylabel('Graduation Percentage')\n",
    "plt.title('2013 Graduation Rates vs Teacher/Student Ratio')\n",
    "print(rvalue)\n",
    "plt.show()"
   ]
  },
  {
   "cell_type": "code",
   "execution_count": null,
   "metadata": {},
   "outputs": [],
   "source": [
    "#linear regression for 2014 values\n",
    "\n",
    "rat14 = gradvsrat[2014]\n",
    "r14 = gradvsrat['Ratio14']\n",
    "st = gradvsrat['States']\n",
    "\n",
    "(slope, intercept, rvalue, pvalue, stderr) = linregress(r14,rat14)\n",
    "regress_valuesR14 = r14 * slope + intercept\n",
    "line_eq = \"y = \" + str(round(slope,2)) + \"x + \" + str(round(intercept,2))\n",
    "plt.plot(r14,regress_valuesR14,\"r-\")\n",
    "plt.annotate(line_eq,(16,72),fontsize=15,color=\"red\")\n",
    "plt.scatter(r14,rat14)\n",
    "plt.xlabel('Teacher Student Ratio')\n",
    "plt.ylabel('Graduation Percentage')\n",
    "plt.title('2014 Graduation Rates vs Teacher/Student Ratio')\n",
    "print(rvalue)\n",
    "plt.show()"
   ]
  },
  {
   "cell_type": "code",
   "execution_count": null,
   "metadata": {},
   "outputs": [],
   "source": [
    "#linear regression for 2015 values\n",
    "\n",
    "rat15 = gradvsrat[2015]\n",
    "r15 = gradvsrat['Ratio15']\n",
    "st = gradvsrat['States']\n",
    "\n",
    "(slope, intercept, rvalue, pvalue, stderr) = linregress(r15,rat15)\n",
    "regress_valuesR15 = r15 * slope + intercept\n",
    "line_eq = \"y = \" + str(round(slope,2)) + \"x + \" + str(round(intercept,2))\n",
    "plt.plot(r15,regress_valuesR15,\"r-\")\n",
    "plt.annotate(line_eq,(18,70),fontsize=15,color=\"red\")\n",
    "plt.scatter(r15,rat15)\n",
    "plt.xlabel('Teacher Student Ratio')\n",
    "plt.ylabel('Graduation Percentage')\n",
    "plt.title('2015 Graduation Rates vs Teacher/Student Ratio')\n",
    "print(rvalue)\n",
    "plt.show()"
   ]
  },
  {
   "cell_type": "code",
   "execution_count": null,
   "metadata": {},
   "outputs": [],
   "source": [
    "#linear regression for 2016 values\n",
    "\n",
    "rat16 = gradvsrat[2016]\n",
    "r16 = gradvsrat['Ratio16']\n",
    "st = gradvsrat['States']\n",
    "\n",
    "(slope, intercept, rvalue, pvalue, stderr) = linregress(r16,rat16)\n",
    "regress_valuesR16 = r16 * slope + intercept\n",
    "line_eq = \"y = \" + str(round(slope,2)) + \"x + \" + str(round(intercept,2))\n",
    "plt.plot(r16,regress_valuesR16,\"r-\")\n",
    "plt.annotate(line_eq,(18,74),fontsize=15,color=\"red\")\n",
    "plt.scatter(r16,rat16)\n",
    "plt.xlabel('Teacher Student Ratio')\n",
    "plt.ylabel('Graduation Percentage')\n",
    "plt.title('2016 Graduation Rates vs Teacher/Student Ratio')\n",
    "print(rvalue)\n",
    "plt.show()"
   ]
  },
  {
   "cell_type": "code",
   "execution_count": null,
   "metadata": {},
   "outputs": [],
   "source": [
    "#generating aggregate value\n",
    "gradrate2['Agg'] = gradrate2.mean(axis=1)\n",
    "teachratio2['Agg']=teachratio2.mean(axis=1)"
   ]
  },
  {
   "cell_type": "code",
   "execution_count": null,
   "metadata": {},
   "outputs": [],
   "source": [
    "#dropping United States Value\n",
    "gradrate2=gradrate2.drop(gradrate2.index[0])"
   ]
  },
  {
   "cell_type": "code",
   "execution_count": null,
   "metadata": {},
   "outputs": [],
   "source": [
    "#linear regression for State Average across all years\n",
    "\n",
    "ya = gradrate2['Agg']\n",
    "xa = teachratio2['Agg']\n",
    "(slope, intercept, rvalue, pvalue, stderr) = linregress(xa,ya)\n",
    "regress_valuesRA = xa * slope + intercept\n",
    "line_eq = \"y = \" + str(round(slope,2)) + \"x + \" + str(round(intercept,2))\n",
    "plt.plot(xa,regress_valuesRA,\"r-\")\n",
    "plt.annotate(line_eq,(16,65),fontsize=15,color=\"red\")\n",
    "plt.scatter(xa,ya)\n",
    "plt.xlabel('Teacher Student Ratio')\n",
    "plt.ylabel('Graduation Percentage') \n",
    "plt.title(' Average Graduation Rates vs Teacher/Student Ratio')\n",
    "print(rvalue)\n",
    "plt.show()"
   ]
  },
  {
   "cell_type": "code",
   "execution_count": null,
   "metadata": {},
   "outputs": [],
   "source": [
    "#plotting all Regressions onto one plot to see trends\n",
    "\n",
    "plt.plot(r10,regress_valuesR10,\"r-\",linestyle='dashed', label=\"2010\")\n",
    "plt.plot(r11,regress_valuesR11,\"b-\", label=\"2011\")\n",
    "plt.plot(r12,regress_valuesR12,\"g-\", linestyle='dashed', label=\"2012\")\n",
    "plt.plot(r13,regress_valuesR13,\"y-\", label=\"2013\")\n",
    "plt.plot(r14,regress_valuesR14,\"p-\", linestyle='dashed', label=\"2014\")\n",
    "plt.plot(r15,regress_valuesR15,\"m-\", label=\"2015\")\n",
    "plt.plot(r16,regress_valuesR16,\"c-\", linestyle='dashed', label=\"2016\")\n",
    "plt.plot(xa,regress_valuesRA,\"k-\", label=\"Aggregate\")\n",
    "plt.annotate(line_eq,(15,65),fontsize=25,color=\"red\")\n",
    "plt.legend()\n",
    "plt.xlabel('Teacher Student Ratio')\n",
    "plt.ylabel('Graduation Percentage') \n",
    "plt.title('Graduation Rate vs Teacher/Student Ratio Regressions')\n",
    "plt.show()"
   ]
  },
  {
   "cell_type": "code",
   "execution_count": null,
   "metadata": {},
   "outputs": [],
   "source": [
    "#renaming column keys for salaries\n",
    "salaries = salaries.rename(columns={'State':'States'})\n",
    "#dropping columns with data that isnt within range\n",
    "salaries = salaries.drop(columns=['2007','2008','2009','2017','2018'])\n",
    "#renaming column keys\n",
    "salaries = salaries.rename(columns = {'2010':\"Sal10\",'2011':\"Sal11\",'2012':\"Sal12\",'2013':\"Sal13\",'2014':\"Sal14\",'2015':\"Sal15\",'2016':\"Sal16\"})\n",
    "#dropping United States index\n",
    "salaries= salaries.drop(salaries.index[0])\n",
    "#exporting to csv for later use\n",
    "export_csv = salaries.to_csv (r'data_files\\gradvssal.csv', index = None, header=True)"
   ]
  },
  {
   "cell_type": "code",
   "execution_count": null,
   "metadata": {},
   "outputs": [],
   "source": [
    "#merging dataframes on States\n",
    "gradvssal = pd.merge(gradrate,salaries, on=[\"States\"])\n"
   ]
  },
  {
   "cell_type": "code",
   "execution_count": null,
   "metadata": {},
   "outputs": [],
   "source": [
    "#linear regression for 2010\n",
    "rat10 = gradvssal[2010]\n",
    "r10 = gradvssal['Sal10']\n",
    "st = gradvssal['States']\n",
    "\n",
    "(slope, intercept, rvalue, pvalue, stderr) = linregress(r10,rat10)\n",
    "regress_valuesS10 = r10 * slope + intercept\n",
    "line_eq = \"y = \" + str(round(slope,2)) + \"x + \" + str(round(intercept,2))\n",
    "plt.plot(r10,regress_valuesS10,\"r-\")\n",
    "plt.annotate(line_eq,(10,65),fontsize=15,color=\"red\")\n",
    "sc = plt.scatter(r10,rat10)\n",
    "plt.title('2010 Graduation Rate vs Teacher Salary Regression')\n",
    "plt.xlabel('Teacher Salary')\n",
    "plt.ylabel('Graduation Percentage')\n",
    "print(line_eq)\n",
    "print(rvalue)\n",
    "plt.show()\n"
   ]
  },
  {
   "cell_type": "code",
   "execution_count": null,
   "metadata": {},
   "outputs": [],
   "source": [
    "#linear regression for 2011\n",
    "rat11 = gradvssal[2011]\n",
    "r11 = gradvssal['Sal11']\n",
    "st = gradvssal['States']\n",
    "\n",
    "(slope, intercept, rvalue, pvalue, stderr) = linregress(r11,rat11)\n",
    "regress_valuesS11 = r11 * slope + intercept\n",
    "line_eq = \"y = \" + str(round(slope,2)) + \"x + \" + str(round(intercept,2))\n",
    "plt.plot(r11,regress_valuesS11,\"r-\")\n",
    "plt.annotate(line_eq,(60,40),fontsize=15,color=\"red\")\n",
    "plt.scatter(r11,rat11)\n",
    "plt.title('2011 Graduation Rate vs Teacher Salary Regression')\n",
    "plt.xlabel('Teacher Salary')\n",
    "plt.ylabel('Graduation Percentage')\n",
    "print(line_eq)\n",
    "print(rvalue)\n",
    "plt.show()"
   ]
  },
  {
   "cell_type": "code",
   "execution_count": null,
   "metadata": {},
   "outputs": [],
   "source": [
    "#linear regression for 2012\n",
    "rat12 = gradvssal[2012]\n",
    "r12 = gradvssal['Sal12']\n",
    "st = gradvssal['States']\n",
    "\n",
    "(slope, intercept, rvalue, pvalue, stderr) = linregress(r12,rat12)\n",
    "regress_valuesS12 = r12 * slope + intercept\n",
    "line_eq = \"y = \" + str(round(slope,2)) + \"x + \" + str(round(intercept,2))\n",
    "plt.plot(r12,regress_valuesS12,\"r-\")\n",
    "plt.annotate(line_eq,(65,45),fontsize=15,color=\"red\")\n",
    "plt.scatter(r12,rat12)\n",
    "plt.title('2012 Graduation Rate vs Teacher Salary Regression')\n",
    "plt.xlabel('Teacher Salary')\n",
    "plt.ylabel('Graduation Percentage')\n",
    "print(line_eq)\n",
    "print(rvalue)\n",
    "plt.show()"
   ]
  },
  {
   "cell_type": "code",
   "execution_count": null,
   "metadata": {},
   "outputs": [],
   "source": [
    "#linear regression for 2013\n",
    "rat13 = gradvssal[2013]\n",
    "r13 = gradvssal['Sal13']\n",
    "st = gradvssal['States']\n",
    "\n",
    "(slope, intercept, rvalue, pvalue, stderr) = linregress(r13,rat13)\n",
    "regress_valuesS13 = r13 * slope + intercept\n",
    "line_eq = \"y = \" + str(round(slope,2)) + \"x + \" + str(round(intercept,2))\n",
    "plt.plot(r13,regress_valuesS13,\"r-\")\n",
    "plt.annotate(line_eq,(65,60),fontsize=15,color=\"red\")\n",
    "plt.scatter(r13,rat13)\n",
    "plt.title('2013 Graduation Rate vs Teacher Salary Regression')\n",
    "plt.xlabel('Teacher Salary')\n",
    "plt.ylabel('Graduation Percentage')\n",
    "print(line_eq)\n",
    "print(rvalue)\n",
    "plt.show()"
   ]
  },
  {
   "cell_type": "code",
   "execution_count": null,
   "metadata": {},
   "outputs": [],
   "source": [
    "#linear regression for 2014\n",
    "rat14 = gradvssal[2014]\n",
    "r14 = gradvssal['Sal14']\n",
    "st = gradvssal['States']\n",
    "\n",
    "(slope, intercept, rvalue, pvalue, stderr) = linregress(r14,rat14)\n",
    "regress_valuesS14 = r14* slope + intercept\n",
    "line_eq = \"y = \" + str(round(slope,2)) + \"x + \" + str(round(intercept,2))\n",
    "plt.plot(r14,regress_valuesS14,\"r-\")\n",
    "plt.annotate(line_eq,(65,60),fontsize=15,color=\"red\")\n",
    "plt.scatter(r14,rat14)\n",
    "plt.title('2014 Graduation Rate vs Teacher Salary Regression')\n",
    "plt.xlabel('Teacher Salary')\n",
    "plt.ylabel('Graduation Percentage')\n",
    "print(line_eq)\n",
    "print(rvalue)\n",
    "plt.show()"
   ]
  },
  {
   "cell_type": "code",
   "execution_count": null,
   "metadata": {},
   "outputs": [],
   "source": [
    "#linear regression for 2015\n",
    "rat15 = gradvssal[2015]\n",
    "r15 = gradvssal['Sal15']\n",
    "st = gradvssal['States']\n",
    "\n",
    "(slope, intercept, rvalue, pvalue, stderr) = linregress(r15,rat15)\n",
    "regress_valuesS15 = r15 * slope + intercept\n",
    "line_eq = \"y = \" + str(round(slope,2)) + \"x + \" + str(round(intercept,2))\n",
    "plt.plot(r15,regress_valuesS15,\"r-\")\n",
    "plt.annotate(line_eq,(15,65),fontsize=15,color=\"red\")\n",
    "plt.scatter(r15,rat15)\n",
    "plt.title('2015 Graduation Rate vs Teacher Salary Regression')\n",
    "plt.xlabel('Teacher Salary')\n",
    "plt.ylabel('Graduation Percentage')\n",
    "print(line_eq)\n",
    "print(rvalue)\n",
    "plt.show()"
   ]
  },
  {
   "cell_type": "code",
   "execution_count": null,
   "metadata": {},
   "outputs": [],
   "source": [
    "#linear regression for 2016\n",
    "rat16 = gradvssal[2016]\n",
    "r16 = gradvssal['Sal16']\n",
    "st = gradvssal['States']\n",
    "\n",
    "(slope, intercept, rvalue, pvalue, stderr) = linregress(r16,rat16)\n",
    "regress_valuesS16 = r16 * slope + intercept\n",
    "line_eq = \"y = \" + str(round(slope,2)) + \"x + \" + str(round(intercept,2))\n",
    "plt.plot(r16,regress_valuesS16,\"r-\")\n",
    "plt.annotate(line_eq,(15,65),fontsize=15,color=\"red\")\n",
    "plt.scatter(r16,rat16)\n",
    "plt.title('2016 Graduation Rate vs Teacher Salary Regression')\n",
    "plt.xlabel('Teacher Salary')\n",
    "plt.ylabel('Graduation Percentage')\n",
    "print(line_eq)\n",
    "print(rvalue)\n",
    "plt.show()"
   ]
  },
  {
   "cell_type": "code",
   "execution_count": null,
   "metadata": {},
   "outputs": [],
   "source": [
    "#creating Aggregate value\n",
    "salaries2['Agg']=salaries2.mean(axis=1)\n"
   ]
  },
  {
   "cell_type": "code",
   "execution_count": null,
   "metadata": {},
   "outputs": [],
   "source": [
    "#Average Linear regression\n",
    "ya = gradrate2['Agg']\n",
    "xa = salaries2['Agg']\n",
    "(slope, intercept, rvalue, pvalue, stderr) = linregress(xa,ya)\n",
    "regress_valuesSA = xa * slope + intercept\n",
    "line_eq = \"y = \" + str(round(slope,2)) + \"x + \" + str(round(intercept,2))\n",
    "plt.plot(xa,regress_valuesSA,\"r-\")\n",
    "plt.annotate(line_eq,(79,50),fontsize=15,color=\"red\",xycoords='axes points')\n",
    "plt.scatter(xa,ya)\n",
    "print(rvalue)\n",
    "plt.title('Average Graduation Rate vs Teacher Salary Regression')\n",
    "plt.xlabel('Teacher Salary')\n",
    "plt.ylabel('Graduation Percentage')\n",
    "plt.savefig('gradvssalAVG.png')\n",
    "\n",
    "plt.show()"
   ]
  },
  {
   "cell_type": "code",
   "execution_count": null,
   "metadata": {},
   "outputs": [],
   "source": [
    "#plotting all Regressions onto one plot to see trends\n",
    "\n",
    "plt.plot(r10,regress_valuesS10,\"r-\",linestyle='dashed', label=\"2010\")\n",
    "plt.plot(r11,regress_valuesS11,\"b-\", label=\"2011\")\n",
    "plt.plot(r12,regress_valuesS12,\"g-\", linestyle='dashed', label=\"2012\")\n",
    "plt.plot(r13,regress_valuesS13,\"y-\", label=\"2013\")\n",
    "plt.plot(r14,regress_valuesS14,\"p-\", linestyle='dashed', label=\"2014\")\n",
    "plt.plot(r15,regress_valuesS15,\"m-\", label=\"2015\")\n",
    "plt.plot(r16,regress_valuesS16,\"c-\", linestyle='dashed', label=\"2016\")\n",
    "plt.plot(xa,regress_valuesSA,\"k-\", label=\"Aggregate\")\n",
    "plt.annotate(line_eq,(15,65),fontsize=25,color=\"red\")\n",
    "plt.legend()\n",
    "plt.xlabel('Teacher Salary')\n",
    "plt.ylabel('Graduation Percentage') \n",
    "plt.title('Graduation Rate vs Teacher Salary Regressions')\n",
    "plt.show()"
   ]
  },
  {
   "cell_type": "code",
   "execution_count": null,
   "metadata": {},
   "outputs": [],
   "source": []
  }
 ],
 "metadata": {
  "kernelspec": {
   "display_name": "Python 3",
   "language": "python",
   "name": "python3"
  },
  "language_info": {
   "codemirror_mode": {
    "name": "ipython",
    "version": 3
   },
   "file_extension": ".py",
   "mimetype": "text/x-python",
   "name": "python",
   "nbconvert_exporter": "python",
   "pygments_lexer": "ipython3",
   "version": "3.7.4"
  }
 },
 "nbformat": 4,
 "nbformat_minor": 2
}
