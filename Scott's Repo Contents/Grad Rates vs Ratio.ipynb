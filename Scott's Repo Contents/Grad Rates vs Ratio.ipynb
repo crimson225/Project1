{
 "cells": [
  {
   "cell_type": "code",
   "execution_count": 1,
   "metadata": {},
   "outputs": [],
   "source": [
    "import pandas as pd\n",
    "import numpy as np\n",
    "from matplotlib import pyplot as plt\n",
    "import scipy.stats as st\n",
    "from scipy.stats import linregress\n",
    "%matplotlib notebook\n"
   ]
  },
  {
   "cell_type": "code",
   "execution_count": 2,
   "metadata": {},
   "outputs": [],
   "source": [
    "grad1= \"data_files/grad_rates.xlsx\"\n",
    "ratio1=\"data_files/teacher_student_ratio.xlsx\"\n",
    "ratio2=\"data_files/Ratios.csv\"\n",
    "grad2= \"data_files/grad_rates.xlsx\"\n",
    "gradrate2=pd.read_excel(grad2, index_col=\"States\")\n",
    "teachratio2=pd.read_csv(ratio2, index_col=\"States\")"
   ]
  },
  {
   "cell_type": "code",
   "execution_count": 3,
   "metadata": {},
   "outputs": [],
   "source": [
    "gradrate2 = gradrate2.T\n",
    "teachratio2 = teachratio2.T\n"
   ]
  },
  {
   "cell_type": "code",
   "execution_count": 4,
   "metadata": {},
   "outputs": [],
   "source": [
    "gradrate=pd.read_excel(grad1)\n",
    "gradrate1=pd.read_excel(grad1)\n",
    "teachratio=pd.read_excel(ratio1)"
   ]
  },
  {
   "cell_type": "code",
   "execution_count": 5,
   "metadata": {},
   "outputs": [
    {
     "data": {
      "text/html": [
       "<div>\n",
       "<style scoped>\n",
       "    .dataframe tbody tr th:only-of-type {\n",
       "        vertical-align: middle;\n",
       "    }\n",
       "\n",
       "    .dataframe tbody tr th {\n",
       "        vertical-align: top;\n",
       "    }\n",
       "\n",
       "    .dataframe thead th {\n",
       "        text-align: right;\n",
       "    }\n",
       "</style>\n",
       "<table border=\"1\" class=\"dataframe\">\n",
       "  <thead>\n",
       "    <tr style=\"text-align: right;\">\n",
       "      <th></th>\n",
       "      <th>STATE</th>\n",
       "      <th>Staff07</th>\n",
       "      <th>Enrollment07</th>\n",
       "      <th>Ratio07</th>\n",
       "      <th>Staff08</th>\n",
       "      <th>Enrollment08</th>\n",
       "      <th>Ratio08</th>\n",
       "      <th>Staff09</th>\n",
       "      <th>Enrollment09</th>\n",
       "      <th>Ratio09</th>\n",
       "      <th>...</th>\n",
       "      <th>Ratio13</th>\n",
       "      <th>Staff14</th>\n",
       "      <th>Enrollment14</th>\n",
       "      <th>Ratio14</th>\n",
       "      <th>Staff15</th>\n",
       "      <th>Enrollment15</th>\n",
       "      <th>Ratio15</th>\n",
       "      <th>Staff16</th>\n",
       "      <th>Enrollment16</th>\n",
       "      <th>Ratio16</th>\n",
       "    </tr>\n",
       "  </thead>\n",
       "  <tbody>\n",
       "    <tr>\n",
       "      <td>0</td>\n",
       "      <td>Alabama</td>\n",
       "      <td>111656</td>\n",
       "      <td>744865</td>\n",
       "      <td>6.671070</td>\n",
       "      <td>95368</td>\n",
       "      <td>745668</td>\n",
       "      <td>7.818849</td>\n",
       "      <td>94058.04</td>\n",
       "      <td>748889</td>\n",
       "      <td>7.961988</td>\n",
       "      <td>...</td>\n",
       "      <td>15.822222</td>\n",
       "      <td>42736.79</td>\n",
       "      <td>744164</td>\n",
       "      <td>17.412726</td>\n",
       "      <td>40766.22</td>\n",
       "      <td>743789</td>\n",
       "      <td>18.245229</td>\n",
       "      <td>42532.95</td>\n",
       "      <td>744930</td>\n",
       "      <td>17.514186</td>\n",
       "    </tr>\n",
       "    <tr>\n",
       "      <td>1</td>\n",
       "      <td>Alaska</td>\n",
       "      <td>16593</td>\n",
       "      <td>131029</td>\n",
       "      <td>7.896643</td>\n",
       "      <td>17160</td>\n",
       "      <td>130662</td>\n",
       "      <td>7.614336</td>\n",
       "      <td>17742.60</td>\n",
       "      <td>131661</td>\n",
       "      <td>7.420615</td>\n",
       "      <td>...</td>\n",
       "      <td>16.578841</td>\n",
       "      <td>7759.08</td>\n",
       "      <td>131176</td>\n",
       "      <td>16.906128</td>\n",
       "      <td>7832.15</td>\n",
       "      <td>132477</td>\n",
       "      <td>16.914513</td>\n",
       "      <td>7824.91</td>\n",
       "      <td>132737</td>\n",
       "      <td>16.963390</td>\n",
       "    </tr>\n",
       "    <tr>\n",
       "      <td>2</td>\n",
       "      <td>Arizona</td>\n",
       "      <td>104670</td>\n",
       "      <td>1087447</td>\n",
       "      <td>10.389290</td>\n",
       "      <td>105548</td>\n",
       "      <td>1087817</td>\n",
       "      <td>10.306372</td>\n",
       "      <td>100320.10</td>\n",
       "      <td>1077831</td>\n",
       "      <td>10.743919</td>\n",
       "      <td>...</td>\n",
       "      <td>22.797228</td>\n",
       "      <td>48124.48</td>\n",
       "      <td>1111695</td>\n",
       "      <td>23.100405</td>\n",
       "      <td>47943.56</td>\n",
       "      <td>1109040</td>\n",
       "      <td>23.132200</td>\n",
       "      <td>48220.08</td>\n",
       "      <td>1123137</td>\n",
       "      <td>23.291894</td>\n",
       "    </tr>\n",
       "    <tr>\n",
       "      <td>3</td>\n",
       "      <td>Arkansas</td>\n",
       "      <td>70331</td>\n",
       "      <td>479016</td>\n",
       "      <td>6.810880</td>\n",
       "      <td>71270</td>\n",
       "      <td>478965</td>\n",
       "      <td>6.720429</td>\n",
       "      <td>74311.00</td>\n",
       "      <td>480559</td>\n",
       "      <td>6.466862</td>\n",
       "      <td>...</td>\n",
       "      <td>14.026234</td>\n",
       "      <td>35430.04</td>\n",
       "      <td>490917</td>\n",
       "      <td>13.855954</td>\n",
       "      <td>35803.87</td>\n",
       "      <td>492132</td>\n",
       "      <td>13.745218</td>\n",
       "      <td>35730.30</td>\n",
       "      <td>493447</td>\n",
       "      <td>13.810323</td>\n",
       "    </tr>\n",
       "    <tr>\n",
       "      <td>4</td>\n",
       "      <td>California</td>\n",
       "      <td>583625</td>\n",
       "      <td>6343471</td>\n",
       "      <td>10.869087</td>\n",
       "      <td>585684</td>\n",
       "      <td>6322528</td>\n",
       "      <td>10.795118</td>\n",
       "      <td>609654.80</td>\n",
       "      <td>6263438</td>\n",
       "      <td>10.273745</td>\n",
       "      <td>...</td>\n",
       "      <td>24.325557</td>\n",
       "      <td>267685.03</td>\n",
       "      <td>6312161</td>\n",
       "      <td>23.580553</td>\n",
       "      <td>263474.93</td>\n",
       "      <td>6305347</td>\n",
       "      <td>23.931488</td>\n",
       "      <td>271287.08</td>\n",
       "      <td>6309138</td>\n",
       "      <td>23.256316</td>\n",
       "    </tr>\n",
       "  </tbody>\n",
       "</table>\n",
       "<p>5 rows × 31 columns</p>\n",
       "</div>"
      ],
      "text/plain": [
       "        STATE  Staff07  Enrollment07    Ratio07  Staff08  Enrollment08  \\\n",
       "0     Alabama   111656        744865   6.671070    95368        745668   \n",
       "1      Alaska    16593        131029   7.896643    17160        130662   \n",
       "2     Arizona   104670       1087447  10.389290   105548       1087817   \n",
       "3    Arkansas    70331        479016   6.810880    71270        478965   \n",
       "4  California   583625       6343471  10.869087   585684       6322528   \n",
       "\n",
       "     Ratio08    Staff09  Enrollment09    Ratio09  ...    Ratio13    Staff14  \\\n",
       "0   7.818849   94058.04        748889   7.961988  ...  15.822222   42736.79   \n",
       "1   7.614336   17742.60        131661   7.420615  ...  16.578841    7759.08   \n",
       "2  10.306372  100320.10       1077831  10.743919  ...  22.797228   48124.48   \n",
       "3   6.720429   74311.00        480559   6.466862  ...  14.026234   35430.04   \n",
       "4  10.795118  609654.80       6263438  10.273745  ...  24.325557  267685.03   \n",
       "\n",
       "   Enrollment14    Ratio14    Staff15  Enrollment15    Ratio15    Staff16  \\\n",
       "0        744164  17.412726   40766.22        743789  18.245229   42532.95   \n",
       "1        131176  16.906128    7832.15        132477  16.914513    7824.91   \n",
       "2       1111695  23.100405   47943.56       1109040  23.132200   48220.08   \n",
       "3        490917  13.855954   35803.87        492132  13.745218   35730.30   \n",
       "4       6312161  23.580553  263474.93       6305347  23.931488  271287.08   \n",
       "\n",
       "   Enrollment16    Ratio16  \n",
       "0        744930  17.514186  \n",
       "1        132737  16.963390  \n",
       "2       1123137  23.291894  \n",
       "3        493447  13.810323  \n",
       "4       6309138  23.256316  \n",
       "\n",
       "[5 rows x 31 columns]"
      ]
     },
     "execution_count": 5,
     "metadata": {},
     "output_type": "execute_result"
    }
   ],
   "source": [
    "teachratio.head()"
   ]
  },
  {
   "cell_type": "code",
   "execution_count": 6,
   "metadata": {},
   "outputs": [
    {
     "data": {
      "text/html": [
       "<div>\n",
       "<style scoped>\n",
       "    .dataframe tbody tr th:only-of-type {\n",
       "        vertical-align: middle;\n",
       "    }\n",
       "\n",
       "    .dataframe tbody tr th {\n",
       "        vertical-align: top;\n",
       "    }\n",
       "\n",
       "    .dataframe thead th {\n",
       "        text-align: right;\n",
       "    }\n",
       "</style>\n",
       "<table border=\"1\" class=\"dataframe\">\n",
       "  <thead>\n",
       "    <tr style=\"text-align: right;\">\n",
       "      <th></th>\n",
       "      <th>States</th>\n",
       "      <th>2010</th>\n",
       "      <th>2011</th>\n",
       "      <th>2012</th>\n",
       "      <th>2013</th>\n",
       "      <th>2014</th>\n",
       "      <th>2015</th>\n",
       "      <th>2016</th>\n",
       "    </tr>\n",
       "  </thead>\n",
       "  <tbody>\n",
       "    <tr>\n",
       "      <td>0</td>\n",
       "      <td>United States</td>\n",
       "      <td>79.3</td>\n",
       "      <td>80.0</td>\n",
       "      <td>81.4</td>\n",
       "      <td>80.0</td>\n",
       "      <td>83.2</td>\n",
       "      <td>84.3</td>\n",
       "      <td>85.4</td>\n",
       "    </tr>\n",
       "    <tr>\n",
       "      <td>1</td>\n",
       "      <td>Alabama</td>\n",
       "      <td>72.0</td>\n",
       "      <td>75.0</td>\n",
       "      <td>80.0</td>\n",
       "      <td>75.0</td>\n",
       "      <td>89.3</td>\n",
       "      <td>87.0</td>\n",
       "      <td>89.0</td>\n",
       "    </tr>\n",
       "    <tr>\n",
       "      <td>2</td>\n",
       "      <td>Alaska</td>\n",
       "      <td>68.0</td>\n",
       "      <td>70.0</td>\n",
       "      <td>71.8</td>\n",
       "      <td>70.0</td>\n",
       "      <td>75.6</td>\n",
       "      <td>76.0</td>\n",
       "      <td>78.0</td>\n",
       "    </tr>\n",
       "    <tr>\n",
       "      <td>3</td>\n",
       "      <td>Arizona</td>\n",
       "      <td>78.0</td>\n",
       "      <td>76.0</td>\n",
       "      <td>75.1</td>\n",
       "      <td>76.0</td>\n",
       "      <td>77.4</td>\n",
       "      <td>80.0</td>\n",
       "      <td>78.0</td>\n",
       "    </tr>\n",
       "    <tr>\n",
       "      <td>4</td>\n",
       "      <td>Arkansas</td>\n",
       "      <td>81.0</td>\n",
       "      <td>84.0</td>\n",
       "      <td>84.9</td>\n",
       "      <td>84.0</td>\n",
       "      <td>84.9</td>\n",
       "      <td>87.0</td>\n",
       "      <td>88.0</td>\n",
       "    </tr>\n",
       "  </tbody>\n",
       "</table>\n",
       "</div>"
      ],
      "text/plain": [
       "          States  2010  2011  2012  2013  2014  2015  2016\n",
       "0  United States  79.3  80.0  81.4  80.0  83.2  84.3  85.4\n",
       "1        Alabama  72.0  75.0  80.0  75.0  89.3  87.0  89.0\n",
       "2         Alaska  68.0  70.0  71.8  70.0  75.6  76.0  78.0\n",
       "3        Arizona  78.0  76.0  75.1  76.0  77.4  80.0  78.0\n",
       "4       Arkansas  81.0  84.0  84.9  84.0  84.9  87.0  88.0"
      ]
     },
     "execution_count": 6,
     "metadata": {},
     "output_type": "execute_result"
    }
   ],
   "source": [
    "ratiorate=teachratio[['STATE','Ratio10','Ratio11','Ratio12','Ratio13','Ratio14','Ratio15','Ratio16']]\n",
    "gradrate1.head()"
   ]
  },
  {
   "cell_type": "code",
   "execution_count": 7,
   "metadata": {},
   "outputs": [
    {
     "data": {
      "text/html": [
       "<div>\n",
       "<style scoped>\n",
       "    .dataframe tbody tr th:only-of-type {\n",
       "        vertical-align: middle;\n",
       "    }\n",
       "\n",
       "    .dataframe tbody tr th {\n",
       "        vertical-align: top;\n",
       "    }\n",
       "\n",
       "    .dataframe thead th {\n",
       "        text-align: right;\n",
       "    }\n",
       "</style>\n",
       "<table border=\"1\" class=\"dataframe\">\n",
       "  <thead>\n",
       "    <tr style=\"text-align: right;\">\n",
       "      <th></th>\n",
       "      <th>STATE</th>\n",
       "      <th>Ratio10</th>\n",
       "      <th>Ratio11</th>\n",
       "      <th>Ratio12</th>\n",
       "      <th>Ratio13</th>\n",
       "      <th>Ratio14</th>\n",
       "      <th>Ratio15</th>\n",
       "      <th>Ratio16</th>\n",
       "    </tr>\n",
       "  </thead>\n",
       "  <tbody>\n",
       "    <tr>\n",
       "      <td>0</td>\n",
       "      <td>United States</td>\n",
       "      <td>7.760581</td>\n",
       "      <td>15.368531</td>\n",
       "      <td>15.500294</td>\n",
       "      <td>15.529901</td>\n",
       "      <td>15.53792</td>\n",
       "      <td>15.444138</td>\n",
       "      <td>15.46081</td>\n",
       "    </tr>\n",
       "  </tbody>\n",
       "</table>\n",
       "</div>"
      ],
      "text/plain": [
       "           STATE   Ratio10    Ratio11    Ratio12    Ratio13   Ratio14  \\\n",
       "0  United States  7.760581  15.368531  15.500294  15.529901  15.53792   \n",
       "\n",
       "     Ratio15   Ratio16  \n",
       "0  15.444138  15.46081  "
      ]
     },
     "execution_count": 7,
     "metadata": {},
     "output_type": "execute_result"
    }
   ],
   "source": [
    "r10=ratiorate['Ratio10'].mean()\n",
    "r11=ratiorate['Ratio11'].mean()\n",
    "r12=ratiorate['Ratio12'].mean()\n",
    "r13=ratiorate['Ratio13'].mean()\n",
    "r14=ratiorate['Ratio14'].mean()\n",
    "r15=ratiorate['Ratio15'].mean()\n",
    "r16=ratiorate['Ratio16'].mean()\n",
    "ratiorate1 = pd.DataFrame({'STATE' : 'United States' , 'Ratio10': r10, 'Ratio11':r11, 'Ratio12':r12, 'Ratio13':r13, 'Ratio14':r14,'Ratio15':r15,'Ratio16':r16},index=[0])\n",
    "ratiorate1"
   ]
  },
  {
   "cell_type": "code",
   "execution_count": 8,
   "metadata": {},
   "outputs": [
    {
     "data": {
      "text/html": [
       "<div>\n",
       "<style scoped>\n",
       "    .dataframe tbody tr th:only-of-type {\n",
       "        vertical-align: middle;\n",
       "    }\n",
       "\n",
       "    .dataframe tbody tr th {\n",
       "        vertical-align: top;\n",
       "    }\n",
       "\n",
       "    .dataframe thead th {\n",
       "        text-align: right;\n",
       "    }\n",
       "</style>\n",
       "<table border=\"1\" class=\"dataframe\">\n",
       "  <thead>\n",
       "    <tr style=\"text-align: right;\">\n",
       "      <th></th>\n",
       "      <th>STATE</th>\n",
       "      <th>Ratio10</th>\n",
       "      <th>Ratio11</th>\n",
       "      <th>Ratio12</th>\n",
       "      <th>Ratio13</th>\n",
       "      <th>Ratio14</th>\n",
       "      <th>Ratio15</th>\n",
       "      <th>Ratio16</th>\n",
       "    </tr>\n",
       "  </thead>\n",
       "  <tbody>\n",
       "    <tr>\n",
       "      <td>0</td>\n",
       "      <td>United States</td>\n",
       "      <td>7.760581</td>\n",
       "      <td>15.368531</td>\n",
       "      <td>15.500294</td>\n",
       "      <td>15.529901</td>\n",
       "      <td>15.537920</td>\n",
       "      <td>15.444138</td>\n",
       "      <td>15.460810</td>\n",
       "    </tr>\n",
       "    <tr>\n",
       "      <td>1</td>\n",
       "      <td>Alabama</td>\n",
       "      <td>7.941102</td>\n",
       "      <td>15.603088</td>\n",
       "      <td>14.353834</td>\n",
       "      <td>15.822222</td>\n",
       "      <td>17.412726</td>\n",
       "      <td>18.245229</td>\n",
       "      <td>17.514186</td>\n",
       "    </tr>\n",
       "    <tr>\n",
       "      <td>2</td>\n",
       "      <td>Alaska</td>\n",
       "      <td>7.297717</td>\n",
       "      <td>16.217743</td>\n",
       "      <td>17.116105</td>\n",
       "      <td>16.578841</td>\n",
       "      <td>16.906128</td>\n",
       "      <td>16.914513</td>\n",
       "      <td>16.963390</td>\n",
       "    </tr>\n",
       "    <tr>\n",
       "      <td>3</td>\n",
       "      <td>Arizona</td>\n",
       "      <td>11.092164</td>\n",
       "      <td>21.266059</td>\n",
       "      <td>22.293100</td>\n",
       "      <td>22.797228</td>\n",
       "      <td>23.100405</td>\n",
       "      <td>23.132200</td>\n",
       "      <td>23.291894</td>\n",
       "    </tr>\n",
       "    <tr>\n",
       "      <td>4</td>\n",
       "      <td>Arkansas</td>\n",
       "      <td>6.678885</td>\n",
       "      <td>14.216360</td>\n",
       "      <td>14.243679</td>\n",
       "      <td>14.026234</td>\n",
       "      <td>13.855954</td>\n",
       "      <td>13.745218</td>\n",
       "      <td>13.810323</td>\n",
       "    </tr>\n",
       "  </tbody>\n",
       "</table>\n",
       "</div>"
      ],
      "text/plain": [
       "           STATE    Ratio10    Ratio11    Ratio12    Ratio13    Ratio14  \\\n",
       "0  United States   7.760581  15.368531  15.500294  15.529901  15.537920   \n",
       "1        Alabama   7.941102  15.603088  14.353834  15.822222  17.412726   \n",
       "2         Alaska   7.297717  16.217743  17.116105  16.578841  16.906128   \n",
       "3        Arizona  11.092164  21.266059  22.293100  22.797228  23.100405   \n",
       "4       Arkansas   6.678885  14.216360  14.243679  14.026234  13.855954   \n",
       "\n",
       "     Ratio15    Ratio16  \n",
       "0  15.444138  15.460810  \n",
       "1  18.245229  17.514186  \n",
       "2  16.914513  16.963390  \n",
       "3  23.132200  23.291894  \n",
       "4  13.745218  13.810323  "
      ]
     },
     "execution_count": 8,
     "metadata": {},
     "output_type": "execute_result"
    }
   ],
   "source": [
    "# df = pd.concat([new_row, df]).reset_index(drop = True)\n",
    "\n",
    "new_df = pd.concat([ratiorate1,ratiorate]).reset_index(drop=True)\n",
    "new_df.head()"
   ]
  },
  {
   "cell_type": "code",
   "execution_count": 9,
   "metadata": {
    "scrolled": true
   },
   "outputs": [
    {
     "data": {
      "text/html": [
       "<div>\n",
       "<style scoped>\n",
       "    .dataframe tbody tr th:only-of-type {\n",
       "        vertical-align: middle;\n",
       "    }\n",
       "\n",
       "    .dataframe tbody tr th {\n",
       "        vertical-align: top;\n",
       "    }\n",
       "\n",
       "    .dataframe thead th {\n",
       "        text-align: right;\n",
       "    }\n",
       "</style>\n",
       "<table border=\"1\" class=\"dataframe\">\n",
       "  <thead>\n",
       "    <tr style=\"text-align: right;\">\n",
       "      <th></th>\n",
       "      <th>States</th>\n",
       "      <th>Ratio10</th>\n",
       "      <th>Ratio11</th>\n",
       "      <th>Ratio12</th>\n",
       "      <th>Ratio13</th>\n",
       "      <th>Ratio14</th>\n",
       "      <th>Ratio15</th>\n",
       "      <th>Ratio16</th>\n",
       "    </tr>\n",
       "  </thead>\n",
       "  <tbody>\n",
       "    <tr>\n",
       "      <td>1</td>\n",
       "      <td>Alabama</td>\n",
       "      <td>7.941102</td>\n",
       "      <td>15.603088</td>\n",
       "      <td>14.353834</td>\n",
       "      <td>15.822222</td>\n",
       "      <td>17.412726</td>\n",
       "      <td>18.245229</td>\n",
       "      <td>17.514186</td>\n",
       "    </tr>\n",
       "    <tr>\n",
       "      <td>2</td>\n",
       "      <td>Alaska</td>\n",
       "      <td>7.297717</td>\n",
       "      <td>16.217743</td>\n",
       "      <td>17.116105</td>\n",
       "      <td>16.578841</td>\n",
       "      <td>16.906128</td>\n",
       "      <td>16.914513</td>\n",
       "      <td>16.963390</td>\n",
       "    </tr>\n",
       "    <tr>\n",
       "      <td>3</td>\n",
       "      <td>Arizona</td>\n",
       "      <td>11.092164</td>\n",
       "      <td>21.266059</td>\n",
       "      <td>22.293100</td>\n",
       "      <td>22.797228</td>\n",
       "      <td>23.100405</td>\n",
       "      <td>23.132200</td>\n",
       "      <td>23.291894</td>\n",
       "    </tr>\n",
       "    <tr>\n",
       "      <td>4</td>\n",
       "      <td>Arkansas</td>\n",
       "      <td>6.678885</td>\n",
       "      <td>14.216360</td>\n",
       "      <td>14.243679</td>\n",
       "      <td>14.026234</td>\n",
       "      <td>13.855954</td>\n",
       "      <td>13.745218</td>\n",
       "      <td>13.810323</td>\n",
       "    </tr>\n",
       "    <tr>\n",
       "      <td>5</td>\n",
       "      <td>California</td>\n",
       "      <td>11.859585</td>\n",
       "      <td>23.401909</td>\n",
       "      <td>23.659479</td>\n",
       "      <td>24.325557</td>\n",
       "      <td>23.580553</td>\n",
       "      <td>23.931488</td>\n",
       "      <td>23.256316</td>\n",
       "    </tr>\n",
       "  </tbody>\n",
       "</table>\n",
       "</div>"
      ],
      "text/plain": [
       "       States    Ratio10    Ratio11    Ratio12    Ratio13    Ratio14  \\\n",
       "1     Alabama   7.941102  15.603088  14.353834  15.822222  17.412726   \n",
       "2      Alaska   7.297717  16.217743  17.116105  16.578841  16.906128   \n",
       "3     Arizona  11.092164  21.266059  22.293100  22.797228  23.100405   \n",
       "4    Arkansas   6.678885  14.216360  14.243679  14.026234  13.855954   \n",
       "5  California  11.859585  23.401909  23.659479  24.325557  23.580553   \n",
       "\n",
       "     Ratio15    Ratio16  \n",
       "1  18.245229  17.514186  \n",
       "2  16.914513  16.963390  \n",
       "3  23.132200  23.291894  \n",
       "4  13.745218  13.810323  \n",
       "5  23.931488  23.256316  "
      ]
     },
     "execution_count": 9,
     "metadata": {},
     "output_type": "execute_result"
    }
   ],
   "source": [
    "new_df=new_df.rename(columns={\"STATE\": \"States\"})\n",
    "export_csv = new_df.to_csv (r'C:\\Users\\steel\\Desktop\\Ratios.csv', index = None, header=True)\n",
    "new_df = new_df.drop(new_df.index[0])\n",
    "new_df.head()"
   ]
  },
  {
   "cell_type": "code",
   "execution_count": 10,
   "metadata": {},
   "outputs": [
    {
     "data": {
      "text/html": [
       "<div>\n",
       "<style scoped>\n",
       "    .dataframe tbody tr th:only-of-type {\n",
       "        vertical-align: middle;\n",
       "    }\n",
       "\n",
       "    .dataframe tbody tr th {\n",
       "        vertical-align: top;\n",
       "    }\n",
       "\n",
       "    .dataframe thead th {\n",
       "        text-align: right;\n",
       "    }\n",
       "</style>\n",
       "<table border=\"1\" class=\"dataframe\">\n",
       "  <thead>\n",
       "    <tr style=\"text-align: right;\">\n",
       "      <th></th>\n",
       "      <th>States</th>\n",
       "      <th>2010</th>\n",
       "      <th>2011</th>\n",
       "      <th>2012</th>\n",
       "      <th>2013</th>\n",
       "      <th>2014</th>\n",
       "      <th>2015</th>\n",
       "      <th>2016</th>\n",
       "    </tr>\n",
       "  </thead>\n",
       "  <tbody>\n",
       "    <tr>\n",
       "      <td>1</td>\n",
       "      <td>Alabama</td>\n",
       "      <td>72.0</td>\n",
       "      <td>75.0</td>\n",
       "      <td>80.0</td>\n",
       "      <td>75.0</td>\n",
       "      <td>89.3</td>\n",
       "      <td>87.0</td>\n",
       "      <td>89.0</td>\n",
       "    </tr>\n",
       "    <tr>\n",
       "      <td>2</td>\n",
       "      <td>Alaska</td>\n",
       "      <td>68.0</td>\n",
       "      <td>70.0</td>\n",
       "      <td>71.8</td>\n",
       "      <td>70.0</td>\n",
       "      <td>75.6</td>\n",
       "      <td>76.0</td>\n",
       "      <td>78.0</td>\n",
       "    </tr>\n",
       "    <tr>\n",
       "      <td>3</td>\n",
       "      <td>Arizona</td>\n",
       "      <td>78.0</td>\n",
       "      <td>76.0</td>\n",
       "      <td>75.1</td>\n",
       "      <td>76.0</td>\n",
       "      <td>77.4</td>\n",
       "      <td>80.0</td>\n",
       "      <td>78.0</td>\n",
       "    </tr>\n",
       "    <tr>\n",
       "      <td>4</td>\n",
       "      <td>Arkansas</td>\n",
       "      <td>81.0</td>\n",
       "      <td>84.0</td>\n",
       "      <td>84.9</td>\n",
       "      <td>84.0</td>\n",
       "      <td>84.9</td>\n",
       "      <td>87.0</td>\n",
       "      <td>88.0</td>\n",
       "    </tr>\n",
       "    <tr>\n",
       "      <td>5</td>\n",
       "      <td>California</td>\n",
       "      <td>76.0</td>\n",
       "      <td>79.0</td>\n",
       "      <td>80.4</td>\n",
       "      <td>79.0</td>\n",
       "      <td>82.0</td>\n",
       "      <td>83.0</td>\n",
       "      <td>83.0</td>\n",
       "    </tr>\n",
       "  </tbody>\n",
       "</table>\n",
       "</div>"
      ],
      "text/plain": [
       "       States  2010  2011  2012  2013  2014  2015  2016\n",
       "1     Alabama  72.0  75.0  80.0  75.0  89.3  87.0  89.0\n",
       "2      Alaska  68.0  70.0  71.8  70.0  75.6  76.0  78.0\n",
       "3     Arizona  78.0  76.0  75.1  76.0  77.4  80.0  78.0\n",
       "4    Arkansas  81.0  84.0  84.9  84.0  84.9  87.0  88.0\n",
       "5  California  76.0  79.0  80.4  79.0  82.0  83.0  83.0"
      ]
     },
     "execution_count": 10,
     "metadata": {},
     "output_type": "execute_result"
    }
   ],
   "source": [
    "gradrate=gradrate.drop(gradrate.index[0])\n",
    "gradrate.head()"
   ]
  },
  {
   "cell_type": "code",
   "execution_count": 11,
   "metadata": {},
   "outputs": [
    {
     "data": {
      "text/html": [
       "<div>\n",
       "<style scoped>\n",
       "    .dataframe tbody tr th:only-of-type {\n",
       "        vertical-align: middle;\n",
       "    }\n",
       "\n",
       "    .dataframe tbody tr th {\n",
       "        vertical-align: top;\n",
       "    }\n",
       "\n",
       "    .dataframe thead th {\n",
       "        text-align: right;\n",
       "    }\n",
       "</style>\n",
       "<table border=\"1\" class=\"dataframe\">\n",
       "  <thead>\n",
       "    <tr style=\"text-align: right;\">\n",
       "      <th></th>\n",
       "      <th>States</th>\n",
       "      <th>2010</th>\n",
       "      <th>2011</th>\n",
       "      <th>2012</th>\n",
       "      <th>2013</th>\n",
       "      <th>2014</th>\n",
       "      <th>2015</th>\n",
       "      <th>2016</th>\n",
       "      <th>Ratio10</th>\n",
       "      <th>Ratio11</th>\n",
       "      <th>Ratio12</th>\n",
       "      <th>Ratio13</th>\n",
       "      <th>Ratio14</th>\n",
       "      <th>Ratio15</th>\n",
       "      <th>Ratio16</th>\n",
       "    </tr>\n",
       "  </thead>\n",
       "  <tbody>\n",
       "    <tr>\n",
       "      <td>0</td>\n",
       "      <td>Alabama</td>\n",
       "      <td>72.0</td>\n",
       "      <td>75.0</td>\n",
       "      <td>80.0</td>\n",
       "      <td>75.0</td>\n",
       "      <td>89.3</td>\n",
       "      <td>87.0</td>\n",
       "      <td>89.0</td>\n",
       "      <td>7.941102</td>\n",
       "      <td>15.603088</td>\n",
       "      <td>14.353834</td>\n",
       "      <td>15.822222</td>\n",
       "      <td>17.412726</td>\n",
       "      <td>18.245229</td>\n",
       "      <td>17.514186</td>\n",
       "    </tr>\n",
       "    <tr>\n",
       "      <td>1</td>\n",
       "      <td>Alaska</td>\n",
       "      <td>68.0</td>\n",
       "      <td>70.0</td>\n",
       "      <td>71.8</td>\n",
       "      <td>70.0</td>\n",
       "      <td>75.6</td>\n",
       "      <td>76.0</td>\n",
       "      <td>78.0</td>\n",
       "      <td>7.297717</td>\n",
       "      <td>16.217743</td>\n",
       "      <td>17.116105</td>\n",
       "      <td>16.578841</td>\n",
       "      <td>16.906128</td>\n",
       "      <td>16.914513</td>\n",
       "      <td>16.963390</td>\n",
       "    </tr>\n",
       "    <tr>\n",
       "      <td>2</td>\n",
       "      <td>Arizona</td>\n",
       "      <td>78.0</td>\n",
       "      <td>76.0</td>\n",
       "      <td>75.1</td>\n",
       "      <td>76.0</td>\n",
       "      <td>77.4</td>\n",
       "      <td>80.0</td>\n",
       "      <td>78.0</td>\n",
       "      <td>11.092164</td>\n",
       "      <td>21.266059</td>\n",
       "      <td>22.293100</td>\n",
       "      <td>22.797228</td>\n",
       "      <td>23.100405</td>\n",
       "      <td>23.132200</td>\n",
       "      <td>23.291894</td>\n",
       "    </tr>\n",
       "    <tr>\n",
       "      <td>3</td>\n",
       "      <td>Arkansas</td>\n",
       "      <td>81.0</td>\n",
       "      <td>84.0</td>\n",
       "      <td>84.9</td>\n",
       "      <td>84.0</td>\n",
       "      <td>84.9</td>\n",
       "      <td>87.0</td>\n",
       "      <td>88.0</td>\n",
       "      <td>6.678885</td>\n",
       "      <td>14.216360</td>\n",
       "      <td>14.243679</td>\n",
       "      <td>14.026234</td>\n",
       "      <td>13.855954</td>\n",
       "      <td>13.745218</td>\n",
       "      <td>13.810323</td>\n",
       "    </tr>\n",
       "    <tr>\n",
       "      <td>4</td>\n",
       "      <td>California</td>\n",
       "      <td>76.0</td>\n",
       "      <td>79.0</td>\n",
       "      <td>80.4</td>\n",
       "      <td>79.0</td>\n",
       "      <td>82.0</td>\n",
       "      <td>83.0</td>\n",
       "      <td>83.0</td>\n",
       "      <td>11.859585</td>\n",
       "      <td>23.401909</td>\n",
       "      <td>23.659479</td>\n",
       "      <td>24.325557</td>\n",
       "      <td>23.580553</td>\n",
       "      <td>23.931488</td>\n",
       "      <td>23.256316</td>\n",
       "    </tr>\n",
       "  </tbody>\n",
       "</table>\n",
       "</div>"
      ],
      "text/plain": [
       "       States  2010  2011  2012  2013  2014  2015  2016    Ratio10    Ratio11  \\\n",
       "0     Alabama  72.0  75.0  80.0  75.0  89.3  87.0  89.0   7.941102  15.603088   \n",
       "1      Alaska  68.0  70.0  71.8  70.0  75.6  76.0  78.0   7.297717  16.217743   \n",
       "2     Arizona  78.0  76.0  75.1  76.0  77.4  80.0  78.0  11.092164  21.266059   \n",
       "3    Arkansas  81.0  84.0  84.9  84.0  84.9  87.0  88.0   6.678885  14.216360   \n",
       "4  California  76.0  79.0  80.4  79.0  82.0  83.0  83.0  11.859585  23.401909   \n",
       "\n",
       "     Ratio12    Ratio13    Ratio14    Ratio15    Ratio16  \n",
       "0  14.353834  15.822222  17.412726  18.245229  17.514186  \n",
       "1  17.116105  16.578841  16.906128  16.914513  16.963390  \n",
       "2  22.293100  22.797228  23.100405  23.132200  23.291894  \n",
       "3  14.243679  14.026234  13.855954  13.745218  13.810323  \n",
       "4  23.659479  24.325557  23.580553  23.931488  23.256316  "
      ]
     },
     "execution_count": 11,
     "metadata": {},
     "output_type": "execute_result"
    }
   ],
   "source": [
    "gradvsrat = pd.merge(gradrate,new_df, on=[\"States\"])\n",
    "gradvsrat.head()\n"
   ]
  },
  {
   "cell_type": "code",
   "execution_count": 12,
   "metadata": {},
   "outputs": [],
   "source": [
    "export_csv = gradvsrat.to_csv (r'C:\\Users\\steel\\Desktop\\gradvsrat.csv', index = None, header=True)\n"
   ]
  },
  {
   "cell_type": "code",
   "execution_count": 13,
   "metadata": {},
   "outputs": [
    {
     "name": "stdout",
     "output_type": "stream",
     "text": [
      "-0.349579967463621\n"
     ]
    },
    {
     "data": {
      "image/png": "[encoded data removed]",
      "text/plain": [
       "<Figure size 432x288 with 1 Axes>"
      ]
     },
     "metadata": {
      "needs_background": "light"
     },
     "output_type": "display_data"
    }
   ],
   "source": [
    "rat10 = gradvsrat[2010]\n",
    "r10 = gradvsrat['Ratio10']\n",
    "st = gradvsrat['States']\n",
    "\n",
    "(slope, intercept, rvalue, pvalue, stderr) = linregress(r10,rat10)\n",
    "regress_values10 = r10 * slope + intercept\n",
    "line_eq = \"y = \" + str(round(slope,2)) + \"x + \" + str(round(intercept,2))\n",
    "plt.plot(r10,regress_values10,\"r-\")\n",
    "plt.annotate(line_eq,(9,65),fontsize=15,color=\"red\")\n",
    "sc = plt.scatter(r10,rat10)\n",
    "print(rvalue)\n",
    "plt.show()\n"
   ]
  },
  {
   "cell_type": "code",
   "execution_count": 14,
   "metadata": {},
   "outputs": [
    {
     "name": "stdout",
     "output_type": "stream",
     "text": [
      "-0.33387075361301305\n"
     ]
    },
    {
     "data": {
      "image/png": "[encoded data removed]",
      "text/plain": [
       "<Figure size 432x288 with 1 Axes>"
      ]
     },
     "metadata": {
      "needs_background": "light"
     },
     "output_type": "display_data"
    }
   ],
   "source": [
    "rat11 = gradvsrat[2011]\n",
    "r11 = gradvsrat['Ratio11']\n",
    "st = gradvsrat['States']\n",
    "\n",
    "(slope, intercept, rvalue, pvalue, stderr) = linregress(r11,rat11)\n",
    "regress_values11 = r11 * slope + intercept\n",
    "line_eq = \"y = \" + str(round(slope,2)) + \"x + \" + str(round(intercept,2))\n",
    "plt.plot(r11,regress_values11,\"r-\")\n",
    "plt.annotate(line_eq,(15,65),fontsize=15,color=\"red\")\n",
    "plt.scatter(r11,rat11)\n",
    "print(rvalue)\n",
    "plt.show()"
   ]
  },
  {
   "cell_type": "code",
   "execution_count": 15,
   "metadata": {},
   "outputs": [
    {
     "name": "stdout",
     "output_type": "stream",
     "text": [
      "-0.37900835717736664\n"
     ]
    },
    {
     "data": {
      "image/png": "[encoded data removed]",
      "text/plain": [
       "<Figure size 432x288 with 1 Axes>"
      ]
     },
     "metadata": {
      "needs_background": "light"
     },
     "output_type": "display_data"
    }
   ],
   "source": [
    "rat12 = gradvsrat[2012]\n",
    "r12 = gradvsrat['Ratio12']\n",
    "st = gradvsrat['States']\n",
    "\n",
    "(slope, intercept, rvalue, pvalue, stderr) = linregress(r12,rat12)\n",
    "regress_values12 = r12 * slope + intercept\n",
    "line_eq = \"y = \" + str(round(slope,2)) + \"x + \" + str(round(intercept,2))\n",
    "plt.plot(r12,regress_values12,\"r-\")\n",
    "plt.annotate(line_eq,(16,65),fontsize=15,color=\"red\")\n",
    "plt.scatter(r12,rat12)\n",
    "print(rvalue)\n",
    "plt.show()"
   ]
  },
  {
   "cell_type": "code",
   "execution_count": 16,
   "metadata": {},
   "outputs": [
    {
     "name": "stdout",
     "output_type": "stream",
     "text": [
      "-0.3871913896170173\n"
     ]
    },
    {
     "data": {
      "image/png": "[encoded data removed]",
      "text/plain": [
       "<Figure size 432x288 with 1 Axes>"
      ]
     },
     "metadata": {
      "needs_background": "light"
     },
     "output_type": "display_data"
    }
   ],
   "source": [
    "rat13 = gradvsrat[2013]\n",
    "r13 = gradvsrat['Ratio13']\n",
    "st = gradvsrat['States']\n",
    "\n",
    "(slope, intercept, rvalue, pvalue, stderr) = linregress(r13,rat13)\n",
    "regress_values13 = r13 * slope + intercept\n",
    "line_eq = \"y = \" + str(round(slope,2)) + \"x + \" + str(round(intercept,2))\n",
    "plt.plot(r13,regress_values13,\"r-\")\n",
    "plt.annotate(line_eq,(16,65),fontsize=15,color=\"red\")\n",
    "plt.scatter(r13,rat13)\n",
    "print(rvalue)\n",
    "plt.show()"
   ]
  },
  {
   "cell_type": "code",
   "execution_count": 17,
   "metadata": {},
   "outputs": [
    {
     "name": "stdout",
     "output_type": "stream",
     "text": [
      "-0.36790336431815734\n"
     ]
    },
    {
     "data": {
      "image/png": "[encoded data removed]",
      "text/plain": [
       "<Figure size 432x288 with 1 Axes>"
      ]
     },
     "metadata": {
      "needs_background": "light"
     },
     "output_type": "display_data"
    }
   ],
   "source": [
    "rat14 = gradvsrat[2014]\n",
    "r14 = gradvsrat['Ratio14']\n",
    "st = gradvsrat['States']\n",
    "\n",
    "(slope, intercept, rvalue, pvalue, stderr) = linregress(r14,rat14)\n",
    "regress_values14 = r14 * slope + intercept\n",
    "line_eq = \"y = \" + str(round(slope,2)) + \"x + \" + str(round(intercept,2))\n",
    "plt.plot(r14,regress_values14,\"r-\")\n",
    "plt.annotate(line_eq,(16,72),fontsize=15,color=\"red\")\n",
    "plt.scatter(r14,rat14)\n",
    "print(rvalue)\n",
    "plt.show()"
   ]
  },
  {
   "cell_type": "code",
   "execution_count": 18,
   "metadata": {},
   "outputs": [
    {
     "name": "stdout",
     "output_type": "stream",
     "text": [
      "-0.32296004769159364\n"
     ]
    },
    {
     "data": {
      "image/png": "[encoded data removed]",
      "text/plain": [
       "<Figure size 432x288 with 1 Axes>"
      ]
     },
     "metadata": {
      "needs_background": "light"
     },
     "output_type": "display_data"
    }
   ],
   "source": [
    "rat15 = gradvsrat[2015]\n",
    "r15 = gradvsrat['Ratio15']\n",
    "st = gradvsrat['States']\n",
    "\n",
    "(slope, intercept, rvalue, pvalue, stderr) = linregress(r15,rat15)\n",
    "regress_values15 = r15 * slope + intercept\n",
    "line_eq = \"y = \" + str(round(slope,2)) + \"x + \" + str(round(intercept,2))\n",
    "plt.plot(r15,regress_values15,\"r-\")\n",
    "plt.annotate(line_eq,(18,70),fontsize=15,color=\"red\")\n",
    "plt.scatter(r15,rat15)\n",
    "print(rvalue)\n",
    "plt.show()"
   ]
  },
  {
   "cell_type": "code",
   "execution_count": 19,
   "metadata": {},
   "outputs": [
    {
     "name": "stdout",
     "output_type": "stream",
     "text": [
      "-0.41339103072157923\n"
     ]
    },
    {
     "data": {
      "image/png": "[encoded data removed]",
      "text/plain": [
       "<Figure size 432x288 with 1 Axes>"
      ]
     },
     "metadata": {
      "needs_background": "light"
     },
     "output_type": "display_data"
    }
   ],
   "source": [
    "rat16 = gradvsrat[2016]\n",
    "r16 = gradvsrat['Ratio16']\n",
    "st = gradvsrat['States']\n",
    "\n",
    "(slope, intercept, rvalue, pvalue, stderr) = linregress(r16,rat16)\n",
    "regress_values16 = r16 * slope + intercept\n",
    "line_eq = \"y = \" + str(round(slope,2)) + \"x + \" + str(round(intercept,2))\n",
    "plt.plot(r16,regress_values16,\"r-\")\n",
    "plt.annotate(line_eq,(18,74),fontsize=15,color=\"red\")\n",
    "plt.scatter(r16,rat16)\n",
    "print(rvalue)\n",
    "plt.show()"
   ]
  },
  {
   "cell_type": "code",
   "execution_count": 20,
   "metadata": {},
   "outputs": [],
   "source": [
    "gradrate2 = gradrate2.T\n",
    "teachratio2 = teachratio2.T"
   ]
  },
  {
   "cell_type": "code",
   "execution_count": 28,
   "metadata": {},
   "outputs": [
    {
     "name": "stdout",
     "output_type": "stream",
     "text": [
      "-0.38561399153357545\n"
     ]
    },
    {
     "data": {
      "image/png": "[encoded data removed]",
      "text/plain": [
       "<Figure size 432x288 with 1 Axes>"
      ]
     },
     "metadata": {
      "needs_background": "light"
     },
     "output_type": "display_data"
    }
   ],
   "source": [
    "gradrate2['Agg'] = gradrate2.mean(axis=1)\n",
    "teachratio2['Agg']=teachratio2.mean(axis=1)\n",
    "ya = gradrate2['Agg']\n",
    "xa = teachratio2['Agg']\n",
    "(slope, intercept, rvalue, pvalue, stderr) = linregress(xa,ya)\n",
    "regress_valuesA = xa * slope + intercept\n",
    "line_eq = \"y = \" + str(round(slope,2)) + \"x + \" + str(round(intercept,2))\n",
    "plt.plot(xa,regress_valuesA,\"r-\")\n",
    "plt.annotate(line_eq,(16,65),fontsize=15,color=\"red\")\n",
    "plt.xlabel('Teacher Student Ratio')\n",
    "plt.ylabel('Graduation Percentage') \n",
    "plt.title(' Average Graduation Rates vs Teacher/Student Ratio')\n",
    "plt.scatter(xa,ya)\n",
    "print(rvalue)\n",
    "plt.savefig('gradvsratAVG.png')\n",
    "plt.show()\n"
   ]
  },
  {
   "cell_type": "code",
   "execution_count": 29,
   "metadata": {
    "scrolled": false
   },
   "outputs": [
    {
     "data": {
      "image/png": "[encoded data removed]",
      "text/plain": [
       "<Figure size 432x288 with 1 Axes>"
      ]
     },
     "metadata": {
      "needs_background": "light"
     },
     "output_type": "display_data"
    }
   ],
   "source": [
    "plt.plot(r10,regress_values10,\"r-\",linestyle='dashed', label=\"2010\")\n",
    "plt.plot(r11,regress_values11,\"b-\", label=\"2011\")\n",
    "plt.plot(r12,regress_values12,\"g-\", linestyle='dashed', label=\"2012\")\n",
    "plt.plot(r13,regress_values13,\"y-\", label=\"2013\")\n",
    "plt.plot(r14,regress_values14,\"p-\", linestyle='dashed', label=\"2014\")\n",
    "plt.plot(r15,regress_values15,\"m-\", label=\"2015\")\n",
    "plt.plot(r16,regress_values16,\"c-\", linestyle='dashed', label=\"2016\")\n",
    "plt.plot(xa,regress_valuesA,\"k-\", label=\"Agregate\")\n",
    "plt.annotate(line_eq,(15,65),fontsize=25,color=\"red\")\n",
    "plt.legend()\n",
    "plt.title('Graduation Rate vs Teacher/Student Ratio Regressions')\n",
    "plt.xlabel('Teacher Student Ratio')\n",
    "plt.ylabel('Graduation Percentage') \n",
    "\n",
    "plt.savefig('gradvsratYEARLY.png')\n",
    "plt.show()\n"
   ]
  },
  {
   "cell_type": "code",
   "execution_count": null,
   "metadata": {},
   "outputs": [],
   "source": []
  }
 ],
 "metadata": {
  "kernelspec": {
   "display_name": "Python 3",
   "language": "python",
   "name": "python3"
  },
  "language_info": {
   "codemirror_mode": {
    "name": "ipython",
    "version": 3
   },
   "file_extension": ".py",
   "mimetype": "text/x-python",
   "name": "python",
   "nbconvert_exporter": "python",
   "pygments_lexer": "ipython3",
   "version": "3.7.4"
  }
 },
 "nbformat": 4,
 "nbformat_minor": 2
}
